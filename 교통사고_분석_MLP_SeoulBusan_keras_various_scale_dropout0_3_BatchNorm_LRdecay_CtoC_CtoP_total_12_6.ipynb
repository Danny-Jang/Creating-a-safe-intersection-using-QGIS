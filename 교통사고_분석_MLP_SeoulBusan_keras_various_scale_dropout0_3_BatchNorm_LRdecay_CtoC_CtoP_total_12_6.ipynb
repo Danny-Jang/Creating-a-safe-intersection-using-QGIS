{
  "nbformat": 4,
  "nbformat_minor": 0,
  "metadata": {
    "colab": {
      "name": "교통사고 분석_MLP_SeoulBusan_keras_various_scale_dropout0.3_BatchNorm_LRdecay_CtoC_CtoP_total_12/6",
      "provenance": [],
      "collapsed_sections": []
    },
    "kernelspec": {
      "name": "python3",
      "display_name": "Python 3"
    }
  },
  "cells": [
    {
      "cell_type": "code",
      "metadata": {
        "id": "qBCf2-Dg-_e5",
        "colab_type": "code",
        "colab": {}
      },
      "source": [
        "import matplotlib.pyplot as plt\n",
        "import numpy as np\n",
        "import pandas as pd\n",
        "import sys\n",
        "import keras\n",
        "import time\n",
        "import seaborn as sns\n",
        "from keras.models import load_model\n",
        "from sklearn.model_selection import train_test_split\n",
        "from sklearn.preprocessing import MinMaxScaler\n",
        "from sklearn.preprocessing import StandardScaler\n",
        "from sklearn.preprocessing import MaxAbsScaler\n",
        "from sklearn.preprocessing import RobustScaler\n",
        "from sklearn.preprocessing import Normalizer\n",
        "from sklearn.metrics import mean_squared_error, r2_score\n",
        "\n",
        "from tensorflow.python.keras.layers import Dropout\n",
        "from tensorflow.python.keras.layers import Dense\n",
        "from tensorflow.python.keras.layers import BatchNormalization\n",
        "from tensorflow.python.keras.layers import Activation\n",
        "from tensorflow.python.keras.models import Sequential\n",
        "from tensorflow.python.keras.regularizers import l1\n",
        "from tensorflow.python.keras.regularizers import l2\n",
        "from keras import  regularizers\n",
        "\n",
        "from sklearn.model_selection import cross_val_score\n",
        "from sklearn.model_selection import KFold \n",
        "from sklearn.pipeline import Pipeline\n",
        "from tensorflow.python.keras.wrappers.scikit_learn import KerasRegressor"
      ],
      "execution_count": 0,
      "outputs": []
    },
    {
      "cell_type": "code",
      "metadata": {
        "id": "Dr3wqG2OAJac",
        "colab_type": "code",
        "outputId": "3e47386c-4ea2-48c6-ff66-ec74231e8ca8",
        "colab": {
          "base_uri": "https://localhost:8080/",
          "height": 125
        }
      },
      "source": [
        "from google.colab import drive\n",
        "drive.mount('/content/drive')"
      ],
      "execution_count": 0,
      "outputs": [
        {
          "output_type": "stream",
          "text": [
            "Go to this URL in a browser: https://accounts.google.com/o/oauth2/auth?client_id=947318989803-6bn6qk8qdgf4n4g3pfee6491hc0brc4i.apps.googleusercontent.com&redirect_uri=urn%3aietf%3awg%3aoauth%3a2.0%3aoob&response_type=code&scope=email%20https%3a%2f%2fwww.googleapis.com%2fauth%2fdocs.test%20https%3a%2f%2fwww.googleapis.com%2fauth%2fdrive%20https%3a%2f%2fwww.googleapis.com%2fauth%2fdrive.photos.readonly%20https%3a%2f%2fwww.googleapis.com%2fauth%2fpeopleapi.readonly\n",
            "\n",
            "Enter your authorization code:\n",
            "··········\n",
            "Mounted at /content/drive\n"
          ],
          "name": "stdout"
        }
      ]
    },
    {
      "cell_type": "code",
      "metadata": {
        "id": "iMNUbsIrnOyZ",
        "colab_type": "code",
        "colab": {}
      },
      "source": [
        "data = pd.read_csv('/content/drive/My Drive/team_project/Dataset3.csv', sep=',' , encoding='CP949')"
      ],
      "execution_count": 0,
      "outputs": []
    },
    {
      "cell_type": "code",
      "metadata": {
        "id": "_9yAA2H1_IH7",
        "colab_type": "code",
        "outputId": "0d26a7cb-f979-4de0-85f7-ee9539a4cfef",
        "colab": {
          "base_uri": "https://localhost:8080/",
          "height": 438
        }
      },
      "source": [
        "data"
      ],
      "execution_count": 0,
      "outputs": [
        {
          "output_type": "execute_result",
          "data": {
            "text/html": [
              "<div>\n",
              "<style scoped>\n",
              "    .dataframe tbody tr th:only-of-type {\n",
              "        vertical-align: middle;\n",
              "    }\n",
              "\n",
              "    .dataframe tbody tr th {\n",
              "        vertical-align: top;\n",
              "    }\n",
              "\n",
              "    .dataframe thead th {\n",
              "        text-align: right;\n",
              "    }\n",
              "</style>\n",
              "<table border=\"1\" class=\"dataframe\">\n",
              "  <thead>\n",
              "    <tr style=\"text-align: right;\">\n",
              "      <th></th>\n",
              "      <th>NODE_ID</th>\n",
              "      <th>NODE_NAME</th>\n",
              "      <th>SI_CODE</th>\n",
              "      <th>GU_CODE</th>\n",
              "      <th>X</th>\n",
              "      <th>Y</th>\n",
              "      <th>Longitude</th>\n",
              "      <th>Latitude</th>\n",
              "      <th>Radius</th>\n",
              "      <th>trafficlight_num</th>\n",
              "      <th>crosswalk_num</th>\n",
              "      <th>station_num</th>\n",
              "      <th>school_num</th>\n",
              "      <th>land_price</th>\n",
              "      <th>house_1</th>\n",
              "      <th>house_2</th>\n",
              "      <th>house_3</th>\n",
              "      <th>house_4</th>\n",
              "      <th>commerce_1</th>\n",
              "      <th>commerce_2</th>\n",
              "      <th>commerce_3</th>\n",
              "      <th>commerce_4</th>\n",
              "      <th>green_1</th>\n",
              "      <th>green_2</th>\n",
              "      <th>green_3</th>\n",
              "      <th>industry_1</th>\n",
              "      <th>industry_2</th>\n",
              "      <th>industry_3</th>\n",
              "      <th>limit_num</th>\n",
              "      <th>mediansep_</th>\n",
              "      <th>island_num</th>\n",
              "      <th>mean_lanes</th>\n",
              "      <th>mean_speed</th>\n",
              "      <th>mean_wth</th>\n",
              "      <th>mean_loadlen</th>\n",
              "      <th>busstop_num</th>\n",
              "      <th>police_num</th>\n",
              "      <th>CtoC_num</th>\n",
              "      <th>CtoP_num</th>\n",
              "      <th>total_acc</th>\n",
              "    </tr>\n",
              "  </thead>\n",
              "  <tbody>\n",
              "    <tr>\n",
              "      <th>0</th>\n",
              "      <td>1150016800</td>\n",
              "      <td>현대맨션</td>\n",
              "      <td>A</td>\n",
              "      <td>DD</td>\n",
              "      <td>9.419266e+05</td>\n",
              "      <td>1950157.631</td>\n",
              "      <td>126.842562</td>\n",
              "      <td>37.548928</td>\n",
              "      <td>37</td>\n",
              "      <td>0</td>\n",
              "      <td>1</td>\n",
              "      <td>0</td>\n",
              "      <td>0</td>\n",
              "      <td>5.102635e+07</td>\n",
              "      <td>0.996526</td>\n",
              "      <td>0.003474</td>\n",
              "      <td>0.000000</td>\n",
              "      <td>0.000000</td>\n",
              "      <td>0.0</td>\n",
              "      <td>0.0</td>\n",
              "      <td>0.0</td>\n",
              "      <td>0.0</td>\n",
              "      <td>0.000000</td>\n",
              "      <td>0.0</td>\n",
              "      <td>0.0</td>\n",
              "      <td>0.0</td>\n",
              "      <td>0.0</td>\n",
              "      <td>0.0</td>\n",
              "      <td>0.000000</td>\n",
              "      <td>0</td>\n",
              "      <td>0</td>\n",
              "      <td>1.00</td>\n",
              "      <td>30.0</td>\n",
              "      <td>4.500000</td>\n",
              "      <td>281.000000</td>\n",
              "      <td>0</td>\n",
              "      <td>0</td>\n",
              "      <td>1</td>\n",
              "      <td>0</td>\n",
              "      <td>1</td>\n",
              "    </tr>\n",
              "    <tr>\n",
              "      <th>1</th>\n",
              "      <td>1160006100</td>\n",
              "      <td>신흥빌라</td>\n",
              "      <td>A</td>\n",
              "      <td>GG</td>\n",
              "      <td>9.425428e+05</td>\n",
              "      <td>1942717.922</td>\n",
              "      <td>126.850119</td>\n",
              "      <td>37.481912</td>\n",
              "      <td>37</td>\n",
              "      <td>0</td>\n",
              "      <td>1</td>\n",
              "      <td>0</td>\n",
              "      <td>1</td>\n",
              "      <td>2.834985e+07</td>\n",
              "      <td>0.000000</td>\n",
              "      <td>1.000000</td>\n",
              "      <td>0.000000</td>\n",
              "      <td>0.000000</td>\n",
              "      <td>0.0</td>\n",
              "      <td>0.0</td>\n",
              "      <td>0.0</td>\n",
              "      <td>0.0</td>\n",
              "      <td>0.000000</td>\n",
              "      <td>0.0</td>\n",
              "      <td>0.0</td>\n",
              "      <td>0.0</td>\n",
              "      <td>0.0</td>\n",
              "      <td>0.0</td>\n",
              "      <td>0.000000</td>\n",
              "      <td>0</td>\n",
              "      <td>1</td>\n",
              "      <td>1.00</td>\n",
              "      <td>60.0</td>\n",
              "      <td>4.000000</td>\n",
              "      <td>645.500000</td>\n",
              "      <td>1</td>\n",
              "      <td>0</td>\n",
              "      <td>3</td>\n",
              "      <td>2</td>\n",
              "      <td>5</td>\n",
              "    </tr>\n",
              "    <tr>\n",
              "      <th>2</th>\n",
              "      <td>1160035000</td>\n",
              "      <td>연흥학원</td>\n",
              "      <td>A</td>\n",
              "      <td>GG</td>\n",
              "      <td>9.457569e+05</td>\n",
              "      <td>1944979.108</td>\n",
              "      <td>126.886304</td>\n",
              "      <td>37.502487</td>\n",
              "      <td>37</td>\n",
              "      <td>0</td>\n",
              "      <td>1</td>\n",
              "      <td>0</td>\n",
              "      <td>0</td>\n",
              "      <td>8.244801e+07</td>\n",
              "      <td>0.000000</td>\n",
              "      <td>1.000000</td>\n",
              "      <td>0.000000</td>\n",
              "      <td>0.000000</td>\n",
              "      <td>0.0</td>\n",
              "      <td>0.0</td>\n",
              "      <td>0.0</td>\n",
              "      <td>0.0</td>\n",
              "      <td>0.000000</td>\n",
              "      <td>0.0</td>\n",
              "      <td>0.0</td>\n",
              "      <td>0.0</td>\n",
              "      <td>0.0</td>\n",
              "      <td>0.0</td>\n",
              "      <td>0.000000</td>\n",
              "      <td>0</td>\n",
              "      <td>0</td>\n",
              "      <td>1.00</td>\n",
              "      <td>30.0</td>\n",
              "      <td>4.666667</td>\n",
              "      <td>130.333333</td>\n",
              "      <td>0</td>\n",
              "      <td>1</td>\n",
              "      <td>2</td>\n",
              "      <td>3</td>\n",
              "      <td>5</td>\n",
              "    </tr>\n",
              "    <tr>\n",
              "      <th>3</th>\n",
              "      <td>1160044000</td>\n",
              "      <td>한일유앤아이아파트</td>\n",
              "      <td>A</td>\n",
              "      <td>GG</td>\n",
              "      <td>9.425526e+05</td>\n",
              "      <td>1945551.749</td>\n",
              "      <td>126.850009</td>\n",
              "      <td>37.507454</td>\n",
              "      <td>37</td>\n",
              "      <td>0</td>\n",
              "      <td>0</td>\n",
              "      <td>0</td>\n",
              "      <td>2</td>\n",
              "      <td>1.929201e+07</td>\n",
              "      <td>1.000000</td>\n",
              "      <td>0.000000</td>\n",
              "      <td>0.000000</td>\n",
              "      <td>0.000000</td>\n",
              "      <td>0.0</td>\n",
              "      <td>0.0</td>\n",
              "      <td>0.0</td>\n",
              "      <td>0.0</td>\n",
              "      <td>0.000000</td>\n",
              "      <td>0.0</td>\n",
              "      <td>0.0</td>\n",
              "      <td>0.0</td>\n",
              "      <td>0.0</td>\n",
              "      <td>0.0</td>\n",
              "      <td>0.000000</td>\n",
              "      <td>0</td>\n",
              "      <td>0</td>\n",
              "      <td>1.00</td>\n",
              "      <td>60.0</td>\n",
              "      <td>3.000000</td>\n",
              "      <td>433.000000</td>\n",
              "      <td>2</td>\n",
              "      <td>0</td>\n",
              "      <td>0</td>\n",
              "      <td>4</td>\n",
              "      <td>4</td>\n",
              "    </tr>\n",
              "    <tr>\n",
              "      <th>4</th>\n",
              "      <td>1100025000</td>\n",
              "      <td>연지초교</td>\n",
              "      <td>A</td>\n",
              "      <td>II</td>\n",
              "      <td>9.610632e+05</td>\n",
              "      <td>1959527.770</td>\n",
              "      <td>127.058698</td>\n",
              "      <td>37.634391</td>\n",
              "      <td>37</td>\n",
              "      <td>0</td>\n",
              "      <td>1</td>\n",
              "      <td>1</td>\n",
              "      <td>1</td>\n",
              "      <td>2.064954e+07</td>\n",
              "      <td>0.986185</td>\n",
              "      <td>0.013815</td>\n",
              "      <td>0.000000</td>\n",
              "      <td>0.000000</td>\n",
              "      <td>0.0</td>\n",
              "      <td>0.0</td>\n",
              "      <td>0.0</td>\n",
              "      <td>0.0</td>\n",
              "      <td>0.000000</td>\n",
              "      <td>0.0</td>\n",
              "      <td>0.0</td>\n",
              "      <td>0.0</td>\n",
              "      <td>0.0</td>\n",
              "      <td>0.0</td>\n",
              "      <td>0.000000</td>\n",
              "      <td>0</td>\n",
              "      <td>2</td>\n",
              "      <td>1.00</td>\n",
              "      <td>30.0</td>\n",
              "      <td>4.500000</td>\n",
              "      <td>616.000000</td>\n",
              "      <td>0</td>\n",
              "      <td>1</td>\n",
              "      <td>7</td>\n",
              "      <td>1</td>\n",
              "      <td>8</td>\n",
              "    </tr>\n",
              "    <tr>\n",
              "      <th>...</th>\n",
              "      <td>...</td>\n",
              "      <td>...</td>\n",
              "      <td>...</td>\n",
              "      <td>...</td>\n",
              "      <td>...</td>\n",
              "      <td>...</td>\n",
              "      <td>...</td>\n",
              "      <td>...</td>\n",
              "      <td>...</td>\n",
              "      <td>...</td>\n",
              "      <td>...</td>\n",
              "      <td>...</td>\n",
              "      <td>...</td>\n",
              "      <td>...</td>\n",
              "      <td>...</td>\n",
              "      <td>...</td>\n",
              "      <td>...</td>\n",
              "      <td>...</td>\n",
              "      <td>...</td>\n",
              "      <td>...</td>\n",
              "      <td>...</td>\n",
              "      <td>...</td>\n",
              "      <td>...</td>\n",
              "      <td>...</td>\n",
              "      <td>...</td>\n",
              "      <td>...</td>\n",
              "      <td>...</td>\n",
              "      <td>...</td>\n",
              "      <td>...</td>\n",
              "      <td>...</td>\n",
              "      <td>...</td>\n",
              "      <td>...</td>\n",
              "      <td>...</td>\n",
              "      <td>...</td>\n",
              "      <td>...</td>\n",
              "      <td>...</td>\n",
              "      <td>...</td>\n",
              "      <td>...</td>\n",
              "      <td>...</td>\n",
              "      <td>...</td>\n",
              "    </tr>\n",
              "    <tr>\n",
              "      <th>6051</th>\n",
              "      <td>1380028700</td>\n",
              "      <td>-</td>\n",
              "      <td>B</td>\n",
              "      <td>PP</td>\n",
              "      <td>1.147437e+06</td>\n",
              "      <td>1691149.431</td>\n",
              "      <td>129.119698</td>\n",
              "      <td>35.204871</td>\n",
              "      <td>54</td>\n",
              "      <td>9</td>\n",
              "      <td>0</td>\n",
              "      <td>0</td>\n",
              "      <td>0</td>\n",
              "      <td>9.516307e+05</td>\n",
              "      <td>0.000000</td>\n",
              "      <td>0.000000</td>\n",
              "      <td>0.326679</td>\n",
              "      <td>0.000000</td>\n",
              "      <td>0.0</td>\n",
              "      <td>0.0</td>\n",
              "      <td>0.0</td>\n",
              "      <td>0.0</td>\n",
              "      <td>0.673321</td>\n",
              "      <td>0.0</td>\n",
              "      <td>0.0</td>\n",
              "      <td>0.0</td>\n",
              "      <td>0.0</td>\n",
              "      <td>0.0</td>\n",
              "      <td>0.000000</td>\n",
              "      <td>1</td>\n",
              "      <td>0</td>\n",
              "      <td>3.40</td>\n",
              "      <td>56.0</td>\n",
              "      <td>42.225000</td>\n",
              "      <td>7500.000000</td>\n",
              "      <td>0</td>\n",
              "      <td>0</td>\n",
              "      <td>34</td>\n",
              "      <td>3</td>\n",
              "      <td>37</td>\n",
              "    </tr>\n",
              "    <tr>\n",
              "      <th>6052</th>\n",
              "      <td>1380029400</td>\n",
              "      <td>-</td>\n",
              "      <td>B</td>\n",
              "      <td>PP</td>\n",
              "      <td>1.147537e+06</td>\n",
              "      <td>1692084.379</td>\n",
              "      <td>129.120957</td>\n",
              "      <td>35.213283</td>\n",
              "      <td>55</td>\n",
              "      <td>12</td>\n",
              "      <td>2</td>\n",
              "      <td>0</td>\n",
              "      <td>0</td>\n",
              "      <td>3.826632e+06</td>\n",
              "      <td>0.000000</td>\n",
              "      <td>0.048482</td>\n",
              "      <td>0.000000</td>\n",
              "      <td>0.000000</td>\n",
              "      <td>0.0</td>\n",
              "      <td>0.0</td>\n",
              "      <td>0.0</td>\n",
              "      <td>0.0</td>\n",
              "      <td>0.064315</td>\n",
              "      <td>0.0</td>\n",
              "      <td>0.0</td>\n",
              "      <td>0.0</td>\n",
              "      <td>0.0</td>\n",
              "      <td>0.0</td>\n",
              "      <td>0.887203</td>\n",
              "      <td>1</td>\n",
              "      <td>2</td>\n",
              "      <td>4.00</td>\n",
              "      <td>52.5</td>\n",
              "      <td>42.225000</td>\n",
              "      <td>7500.000000</td>\n",
              "      <td>0</td>\n",
              "      <td>0</td>\n",
              "      <td>62</td>\n",
              "      <td>4</td>\n",
              "      <td>66</td>\n",
              "    </tr>\n",
              "    <tr>\n",
              "      <th>6053</th>\n",
              "      <td>1320005200</td>\n",
              "      <td>-</td>\n",
              "      <td>B</td>\n",
              "      <td>EE</td>\n",
              "      <td>1.142002e+06</td>\n",
              "      <td>1682717.438</td>\n",
              "      <td>129.058556</td>\n",
              "      <td>35.129650</td>\n",
              "      <td>56</td>\n",
              "      <td>0</td>\n",
              "      <td>0</td>\n",
              "      <td>0</td>\n",
              "      <td>0</td>\n",
              "      <td>3.825333e+05</td>\n",
              "      <td>0.000000</td>\n",
              "      <td>0.000000</td>\n",
              "      <td>0.000000</td>\n",
              "      <td>0.000000</td>\n",
              "      <td>0.0</td>\n",
              "      <td>0.0</td>\n",
              "      <td>0.0</td>\n",
              "      <td>0.0</td>\n",
              "      <td>0.000000</td>\n",
              "      <td>0.0</td>\n",
              "      <td>0.0</td>\n",
              "      <td>0.0</td>\n",
              "      <td>0.0</td>\n",
              "      <td>1.0</td>\n",
              "      <td>0.000000</td>\n",
              "      <td>1</td>\n",
              "      <td>1</td>\n",
              "      <td>3.75</td>\n",
              "      <td>57.5</td>\n",
              "      <td>50.000000</td>\n",
              "      <td>3400.000000</td>\n",
              "      <td>0</td>\n",
              "      <td>0</td>\n",
              "      <td>30</td>\n",
              "      <td>10</td>\n",
              "      <td>40</td>\n",
              "    </tr>\n",
              "    <tr>\n",
              "      <th>6054</th>\n",
              "      <td>1320004900</td>\n",
              "      <td>-</td>\n",
              "      <td>B</td>\n",
              "      <td>EE</td>\n",
              "      <td>1.141862e+06</td>\n",
              "      <td>1682590.225</td>\n",
              "      <td>129.056998</td>\n",
              "      <td>35.128523</td>\n",
              "      <td>56</td>\n",
              "      <td>0</td>\n",
              "      <td>0</td>\n",
              "      <td>0</td>\n",
              "      <td>0</td>\n",
              "      <td>1.623048e+05</td>\n",
              "      <td>0.000000</td>\n",
              "      <td>0.000000</td>\n",
              "      <td>0.000000</td>\n",
              "      <td>0.000000</td>\n",
              "      <td>0.0</td>\n",
              "      <td>0.0</td>\n",
              "      <td>0.0</td>\n",
              "      <td>0.0</td>\n",
              "      <td>0.000000</td>\n",
              "      <td>0.0</td>\n",
              "      <td>0.0</td>\n",
              "      <td>0.0</td>\n",
              "      <td>0.0</td>\n",
              "      <td>1.0</td>\n",
              "      <td>0.000000</td>\n",
              "      <td>1</td>\n",
              "      <td>0</td>\n",
              "      <td>3.40</td>\n",
              "      <td>52.0</td>\n",
              "      <td>50.000000</td>\n",
              "      <td>3400.000000</td>\n",
              "      <td>0</td>\n",
              "      <td>0</td>\n",
              "      <td>4</td>\n",
              "      <td>1</td>\n",
              "      <td>5</td>\n",
              "    </tr>\n",
              "    <tr>\n",
              "      <th>6055</th>\n",
              "      <td>1420000800</td>\n",
              "      <td>-</td>\n",
              "      <td>B</td>\n",
              "      <td>MM</td>\n",
              "      <td>1.143814e+06</td>\n",
              "      <td>1689835.344</td>\n",
              "      <td>129.079673</td>\n",
              "      <td>35.193552</td>\n",
              "      <td>57</td>\n",
              "      <td>12</td>\n",
              "      <td>0</td>\n",
              "      <td>1</td>\n",
              "      <td>3</td>\n",
              "      <td>1.082780e+07</td>\n",
              "      <td>0.000000</td>\n",
              "      <td>0.004721</td>\n",
              "      <td>0.481943</td>\n",
              "      <td>0.513335</td>\n",
              "      <td>0.0</td>\n",
              "      <td>0.0</td>\n",
              "      <td>0.0</td>\n",
              "      <td>0.0</td>\n",
              "      <td>0.000000</td>\n",
              "      <td>0.0</td>\n",
              "      <td>0.0</td>\n",
              "      <td>0.0</td>\n",
              "      <td>0.0</td>\n",
              "      <td>0.0</td>\n",
              "      <td>0.000000</td>\n",
              "      <td>0</td>\n",
              "      <td>2</td>\n",
              "      <td>4.25</td>\n",
              "      <td>60.0</td>\n",
              "      <td>45.000000</td>\n",
              "      <td>14485.000000</td>\n",
              "      <td>0</td>\n",
              "      <td>0</td>\n",
              "      <td>47</td>\n",
              "      <td>2</td>\n",
              "      <td>49</td>\n",
              "    </tr>\n",
              "  </tbody>\n",
              "</table>\n",
              "<p>6056 rows × 40 columns</p>\n",
              "</div>"
            ],
            "text/plain": [
              "         NODE_ID  NODE_NAME SI_CODE  ... CtoC_num  CtoP_num  total_acc\n",
              "0     1150016800       현대맨션       A  ...        1         0          1\n",
              "1     1160006100       신흥빌라       A  ...        3         2          5\n",
              "2     1160035000       연흥학원       A  ...        2         3          5\n",
              "3     1160044000  한일유앤아이아파트       A  ...        0         4          4\n",
              "4     1100025000       연지초교       A  ...        7         1          8\n",
              "...          ...        ...     ...  ...      ...       ...        ...\n",
              "6051  1380028700          -       B  ...       34         3         37\n",
              "6052  1380029400          -       B  ...       62         4         66\n",
              "6053  1320005200          -       B  ...       30        10         40\n",
              "6054  1320004900          -       B  ...        4         1          5\n",
              "6055  1420000800          -       B  ...       47         2         49\n",
              "\n",
              "[6056 rows x 40 columns]"
            ]
          },
          "metadata": {
            "tags": []
          },
          "execution_count": 70
        }
      ]
    },
    {
      "cell_type": "code",
      "metadata": {
        "id": "m0ntVPxsx0QP",
        "colab_type": "code",
        "colab": {}
      },
      "source": [
        "raw_x = data[['Radius','trafficlight_num','crosswalk_num','station_num','school_num','land_price','house_1','house_2','house_3','house_4','commerce_1','commerce_2','commerce_3','commerce_4','green_1','green_2','green_3','industry_1','industry_2','industry_3','limit_num','mediansep_','island_num','mean_lanes','mean_speed','mean_wth','mean_loadlen','busstop_num','police_num']]\n",
        "raw_y = data[['total_acc']]\n",
        "raw_x_CtoC = data[['Radius','trafficlight_num','crosswalk_num','station_num','school_num','land_price','house_1','house_2','house_3','house_4','commerce_1','commerce_2','commerce_3','commerce_4','green_1','green_2','green_3','industry_1','industry_2','industry_3','limit_num','mediansep_','island_num','mean_lanes','mean_speed','mean_wth','mean_loadlen','busstop_num','police_num']]\n",
        "raw_y_CtoC = data[['CtoC_num']]\n",
        "raw_x_CtoP = data[['Radius','trafficlight_num','crosswalk_num','station_num','school_num','land_price','house_1','house_2','house_3','house_4','commerce_1','commerce_2','commerce_3','commerce_4','green_1','green_2','green_3','industry_1','industry_2','industry_3','limit_num','mediansep_','island_num','mean_lanes','mean_speed','mean_wth','mean_loadlen','busstop_num','police_num']]\n",
        "raw_y_CtoP = data[['CtoC_num']]"
      ],
      "execution_count": 0,
      "outputs": []
    },
    {
      "cell_type": "code",
      "metadata": {
        "id": "4vkQFcVW5Qpp",
        "colab_type": "code",
        "outputId": "009306d2-238d-4397-a307-77636f96055b",
        "colab": {
          "base_uri": "https://localhost:8080/",
          "height": 632
        }
      },
      "source": [
        "sns.set(rc = {'figure.figsize':(12,10)})\n",
        "sns.distplot(raw_y,kde = True)"
      ],
      "execution_count": 0,
      "outputs": [
        {
          "output_type": "execute_result",
          "data": {
            "text/plain": [
              "<matplotlib.axes._subplots.AxesSubplot at 0x7f63c245b240>"
            ]
          },
          "metadata": {
            "tags": []
          },
          "execution_count": 12
        },
        {
          "output_type": "display_data",
          "data": {
            "image/png": "[encoded data removed]",
            "text/plain": [
              "<Figure size 864x720 with 1 Axes>"
            ]
          },
          "metadata": {
            "tags": []
          }
        }
      ]
    },
    {
      "cell_type": "code",
      "metadata": {
        "id": "kpKjj4JH_J7m",
        "colab_type": "code",
        "colab": {}
      },
      "source": [
        "####################################################################################\n",
        "minmax_scaler_x = MinMaxScaler()  #각 피처에 대해 0과 1사이로 스케일이 진행 \n",
        "minmax_scaler_y = MinMaxScaler()\n",
        "minmax_scaler_x.fit(raw_x)\n",
        "minmax_scaler_y.fit(raw_y)\n",
        "minmax_xscale = minmax_scaler_x.transform(raw_x)\n",
        "minmax_yscale = minmax_scaler_y.transform(raw_y)\n",
        "####################################################################################\n",
        "standard_scaler_x = StandardScaler()\n",
        "standard_scaler_y = StandardScaler()\n",
        "standard_scaler_x.fit(raw_x)\n",
        "standard_scaler_y.fit(raw_y)\n",
        "standard_xscale = standard_scaler_x.transform(raw_x)\n",
        "standard_yscale = standard_scaler_y.transform(raw_y)\n",
        "####################################################################################\n",
        "maxabs_scaler_x = MaxAbsScaler()\n",
        "maxabs_scaler_y = MaxAbsScaler()\n",
        "maxabs_scaler_x.fit(raw_x)\n",
        "maxabs_scaler_y.fit(raw_y)\n",
        "maxabs_xscale = maxabs_scaler_x.transform(raw_x)\n",
        "maxabs_yscale = maxabs_scaler_y.transform(raw_y)\n",
        "####################################################################################\n",
        "robust_scaler_x = RobustScaler()\n",
        "robust_scaler_y = RobustScaler()\n",
        "robust_scaler_x.fit(raw_x)\n",
        "robust_scaler_y.fit(raw_y)\n",
        "robust_xscale = robust_scaler_x.transform(raw_x)\n",
        "robust_yscale = robust_scaler_y.transform(raw_y)\n",
        "####################################################################################"
      ],
      "execution_count": 0,
      "outputs": []
    },
    {
      "cell_type": "code",
      "metadata": {
        "id": "DYmVRTKCBSjp",
        "colab_type": "code",
        "colab": {}
      },
      "source": [
        "maxabs_scaler_x = MaxAbsScaler()\n",
        "maxabs_scaler_y = MaxAbsScaler()\n",
        "maxabs_scaler_x.fit(raw_x_CtoC)\n",
        "maxabs_scaler_y.fit(raw_y_CtoC)\n",
        "maxabs_xscale_CtoC = maxabs_scaler_x.transform(raw_x_CtoC)\n",
        "maxabs_yscale_CtoC = maxabs_scaler_y.transform(raw_y_CtoC)\n",
        "\n",
        "maxabs_scaler_x = MaxAbsScaler()\n",
        "maxabs_scaler_y = MaxAbsScaler()\n",
        "maxabs_scaler_x.fit(raw_x_CtoP)\n",
        "maxabs_scaler_y.fit(raw_y_CtoP)\n",
        "maxabs_xscale_CtoP = maxabs_scaler_x.transform(raw_x_CtoP)\n",
        "maxabs_yscale_CtoP = maxabs_scaler_y.transform(raw_y_CtoP)"
      ],
      "execution_count": 0,
      "outputs": []
    },
    {
      "cell_type": "code",
      "metadata": {
        "id": "ejeGDXKj_Nrx",
        "colab_type": "code",
        "colab": {}
      },
      "source": [
        "x_train, x_test, y_train, y_test = train_test_split(maxabs_xscale,maxabs_yscale ,test_size = 0.2, random_state = 42)\n",
        "x_train_CtoC, x_test_CtoC , y_train_CtoC, y_test_CtoC = train_test_split(maxabs_xscale, maxabs_yscale_CtoC, test_size = 0.2, random_state = 42)\n",
        "x_train_CtoP, x_test_CtoP , y_train_CtoP, y_test_CtoP = train_test_split(maxabs_xscale, maxabs_yscale_CtoP, test_size = 0.2, random_state = 42)"
      ],
      "execution_count": 0,
      "outputs": []
    },
    {
      "cell_type": "code",
      "metadata": {
        "id": "K8RU5OW-8MYF",
        "colab_type": "code",
        "outputId": "4cf347cd-6f8f-4811-a0d4-0001dd7af1f5",
        "colab": {
          "base_uri": "https://localhost:8080/",
          "height": 580
        }
      },
      "source": [
        "model = Sequential()\n",
        "model.add(Dense(30, input_dim=29,  kernel_regularizer = regularizers.l1_l2(l1 =0.001, l2 = 0.001)))\n",
        "model.add(BatchNormalization())\n",
        "model.add(Activation('relu'))\n",
        "Dropout(0.3)\n",
        "\n",
        "\n",
        "model.add(Dense(60,  kernel_regularizer = regularizers.l1_l2(l1 = 0.001, l2 = 0.001)))\n",
        "model.add(BatchNormalization())\n",
        "model.add(Activation('relu'))\n",
        "Dropout(0.3)\n",
        "\n",
        "\n",
        "model.add(Dense(60,  kernel_regularizer = regularizers.l1_l2(l1 = 0.001, l2 = 0.001)))\n",
        "model.add(BatchNormalization())\n",
        "model.add(Activation('relu'))\n",
        "Dropout(0.3)\n",
        "\n",
        "\n",
        "# model.add(Dense(30,  kernel_regularizer = regularizers.l1_l2(l1 = 0.01, l2 = 0.01)))\n",
        "# model.add(BatchNormalization())\n",
        "# model.add(Activation('relu'))\n",
        "# Dropout(0.3)\n",
        "\n",
        "model.add(Dense(1))\n",
        "model.add(BatchNormalization())\n",
        "model.add(Activation('linear'))\n",
        "model.summary()"
      ],
      "execution_count": 0,
      "outputs": [
        {
          "output_type": "stream",
          "text": [
            "Model: \"sequential_6\"\n",
            "_________________________________________________________________\n",
            "Layer (type)                 Output Shape              Param #   \n",
            "=================================================================\n",
            "dense_29 (Dense)             (None, 30)                900       \n",
            "_________________________________________________________________\n",
            "batch_normalization_29 (Batc (None, 30)                120       \n",
            "_________________________________________________________________\n",
            "activation_29 (Activation)   (None, 30)                0         \n",
            "_________________________________________________________________\n",
            "dense_30 (Dense)             (None, 60)                1860      \n",
            "_________________________________________________________________\n",
            "batch_normalization_30 (Batc (None, 60)                240       \n",
            "_________________________________________________________________\n",
            "activation_30 (Activation)   (None, 60)                0         \n",
            "_________________________________________________________________\n",
            "dense_31 (Dense)             (None, 60)                3660      \n",
            "_________________________________________________________________\n",
            "batch_normalization_31 (Batc (None, 60)                240       \n",
            "_________________________________________________________________\n",
            "activation_31 (Activation)   (None, 60)                0         \n",
            "_________________________________________________________________\n",
            "dense_32 (Dense)             (None, 1)                 61        \n",
            "_________________________________________________________________\n",
            "batch_normalization_32 (Batc (None, 1)                 4         \n",
            "_________________________________________________________________\n",
            "activation_32 (Activation)   (None, 1)                 0         \n",
            "=================================================================\n",
            "Total params: 7,085\n",
            "Trainable params: 6,783\n",
            "Non-trainable params: 302\n",
            "_________________________________________________________________\n"
          ],
          "name": "stdout"
        }
      ]
    },
    {
      "cell_type": "code",
      "metadata": {
        "id": "Y8xnaRA1_PqV",
        "colab_type": "code",
        "colab": {}
      },
      "source": [
        "from tensorflow.keras.optimizers import SGD,RMSprop,Adam\n",
        "epochs = 100\n",
        "learning_rate = 0.01\n",
        "decay_rate = learning_rate  / epochs\n",
        "opt = Adam(lr = learning_rate, decay = decay_rate)\n",
        "model.compile(optimizer= opt,loss='mae', metrics=['mse','mae'])"
      ],
      "execution_count": 0,
      "outputs": []
    },
    {
      "cell_type": "code",
      "metadata": {
        "colab_type": "code",
        "id": "MErNZNMZWZyv",
        "outputId": "7e52e875-5c2f-4119-8ed9-a0634e9ccf3e",
        "colab": {
          "base_uri": "https://localhost:8080/",
          "height": 1000
        }
      },
      "source": [
        "# early_stop = keras.callbacks.EarlyStopping(monitor = 'val_loss',min_delta = 1e-3 ,patience = 10)\n",
        "# history = model.fit(X_train, y_train, epochs = epochs, batch_size= 9,  verbose=1,callbacks = [early_stop] ,validation_split=0.3)\n",
        "start = time.time()\n",
        "history = model.fit(x_train, y_train, epochs = epochs, batch_size= 7,  verbose=1,validation_split=0.3)\n",
        "print(\"time: \", time.time() - start ,\"seconds\")"
      ],
      "execution_count": 0,
      "outputs": [
        {
          "output_type": "stream",
          "text": [
            "Train on 3390 samples, validate on 1454 samples\n",
            "Epoch 1/100\n",
            "3390/3390 [==============================] - 3s 765us/sample - loss: 0.3770 - mean_squared_error: 0.0756 - mean_absolute_error: 0.1277 - val_loss: 0.1187 - val_mean_squared_error: 0.0085 - val_mean_absolute_error: 0.0573\n",
            "Epoch 2/100\n",
            "3390/3390 [==============================] - 2s 481us/sample - loss: 0.1058 - mean_squared_error: 0.0070 - mean_absolute_error: 0.0523 - val_loss: 0.0847 - val_mean_squared_error: 0.0069 - val_mean_absolute_error: 0.0571\n",
            "Epoch 3/100\n",
            "3390/3390 [==============================] - 2s 488us/sample - loss: 0.0722 - mean_squared_error: 0.0066 - mean_absolute_error: 0.0503 - val_loss: 0.0666 - val_mean_squared_error: 0.0079 - val_mean_absolute_error: 0.0533\n",
            "Epoch 4/100\n",
            "3390/3390 [==============================] - 2s 489us/sample - loss: 0.0645 - mean_squared_error: 0.0063 - mean_absolute_error: 0.0499 - val_loss: 0.0767 - val_mean_squared_error: 0.0112 - val_mean_absolute_error: 0.0640\n",
            "Epoch 5/100\n",
            "3390/3390 [==============================] - 2s 484us/sample - loss: 0.0622 - mean_squared_error: 0.0065 - mean_absolute_error: 0.0495 - val_loss: 0.0669 - val_mean_squared_error: 0.0075 - val_mean_absolute_error: 0.0563\n",
            "Epoch 6/100\n",
            "3390/3390 [==============================] - 2s 478us/sample - loss: 0.0621 - mean_squared_error: 0.0065 - mean_absolute_error: 0.0499 - val_loss: 0.0884 - val_mean_squared_error: 0.0150 - val_mean_absolute_error: 0.0727\n",
            "Epoch 7/100\n",
            "3390/3390 [==============================] - 2s 475us/sample - loss: 0.0623 - mean_squared_error: 0.0065 - mean_absolute_error: 0.0496 - val_loss: 0.0585 - val_mean_squared_error: 0.0076 - val_mean_absolute_error: 0.0512\n",
            "Epoch 8/100\n",
            "3390/3390 [==============================] - 2s 481us/sample - loss: 0.0591 - mean_squared_error: 0.0062 - mean_absolute_error: 0.0488 - val_loss: 0.0565 - val_mean_squared_error: 0.0051 - val_mean_absolute_error: 0.0475\n",
            "Epoch 9/100\n",
            "3390/3390 [==============================] - 2s 480us/sample - loss: 0.0579 - mean_squared_error: 0.0063 - mean_absolute_error: 0.0488 - val_loss: 0.0617 - val_mean_squared_error: 0.0084 - val_mean_absolute_error: 0.0540\n",
            "Epoch 10/100\n",
            "3390/3390 [==============================] - 2s 490us/sample - loss: 0.0574 - mean_squared_error: 0.0061 - mean_absolute_error: 0.0485 - val_loss: 0.0687 - val_mean_squared_error: 0.0080 - val_mean_absolute_error: 0.0601\n",
            "Epoch 11/100\n",
            "3390/3390 [==============================] - 2s 475us/sample - loss: 0.0569 - mean_squared_error: 0.0061 - mean_absolute_error: 0.0489 - val_loss: 0.0623 - val_mean_squared_error: 0.0086 - val_mean_absolute_error: 0.0545\n",
            "Epoch 12/100\n",
            "3390/3390 [==============================] - 2s 466us/sample - loss: 0.0551 - mean_squared_error: 0.0062 - mean_absolute_error: 0.0483 - val_loss: 0.0504 - val_mean_squared_error: 0.0052 - val_mean_absolute_error: 0.0438\n",
            "Epoch 13/100\n",
            "3390/3390 [==============================] - 2s 479us/sample - loss: 0.0548 - mean_squared_error: 0.0060 - mean_absolute_error: 0.0478 - val_loss: 0.0555 - val_mean_squared_error: 0.0068 - val_mean_absolute_error: 0.0491\n",
            "Epoch 14/100\n",
            "3390/3390 [==============================] - 2s 490us/sample - loss: 0.0565 - mean_squared_error: 0.0061 - mean_absolute_error: 0.0490 - val_loss: 0.0515 - val_mean_squared_error: 0.0050 - val_mean_absolute_error: 0.0444\n",
            "Epoch 15/100\n",
            "3390/3390 [==============================] - 2s 484us/sample - loss: 0.0553 - mean_squared_error: 0.0061 - mean_absolute_error: 0.0486 - val_loss: 0.0561 - val_mean_squared_error: 0.0076 - val_mean_absolute_error: 0.0499\n",
            "Epoch 16/100\n",
            "3390/3390 [==============================] - 2s 479us/sample - loss: 0.0545 - mean_squared_error: 0.0061 - mean_absolute_error: 0.0482 - val_loss: 0.0527 - val_mean_squared_error: 0.0066 - val_mean_absolute_error: 0.0465\n",
            "Epoch 17/100\n",
            "3390/3390 [==============================] - 2s 482us/sample - loss: 0.0543 - mean_squared_error: 0.0062 - mean_absolute_error: 0.0481 - val_loss: 0.0525 - val_mean_squared_error: 0.0062 - val_mean_absolute_error: 0.0463\n",
            "Epoch 18/100\n",
            "3390/3390 [==============================] - 2s 460us/sample - loss: 0.0531 - mean_squared_error: 0.0059 - mean_absolute_error: 0.0470 - val_loss: 0.0479 - val_mean_squared_error: 0.0050 - val_mean_absolute_error: 0.0418\n",
            "Epoch 19/100\n",
            "3390/3390 [==============================] - 2s 471us/sample - loss: 0.0537 - mean_squared_error: 0.0061 - mean_absolute_error: 0.0478 - val_loss: 0.0637 - val_mean_squared_error: 0.0058 - val_mean_absolute_error: 0.0574\n",
            "Epoch 20/100\n",
            "3390/3390 [==============================] - 2s 480us/sample - loss: 0.0532 - mean_squared_error: 0.0059 - mean_absolute_error: 0.0471 - val_loss: 0.0478 - val_mean_squared_error: 0.0051 - val_mean_absolute_error: 0.0418\n",
            "Epoch 21/100\n",
            "3390/3390 [==============================] - 2s 478us/sample - loss: 0.0531 - mean_squared_error: 0.0059 - mean_absolute_error: 0.0473 - val_loss: 0.0476 - val_mean_squared_error: 0.0045 - val_mean_absolute_error: 0.0419\n",
            "Epoch 22/100\n",
            "3390/3390 [==============================] - 2s 481us/sample - loss: 0.0530 - mean_squared_error: 0.0060 - mean_absolute_error: 0.0473 - val_loss: 0.0462 - val_mean_squared_error: 0.0047 - val_mean_absolute_error: 0.0408\n",
            "Epoch 23/100\n",
            "3390/3390 [==============================] - 2s 481us/sample - loss: 0.0556 - mean_squared_error: 0.0065 - mean_absolute_error: 0.0495 - val_loss: 0.0604 - val_mean_squared_error: 0.0058 - val_mean_absolute_error: 0.0546\n",
            "Epoch 24/100\n",
            "3390/3390 [==============================] - 2s 466us/sample - loss: 0.0531 - mean_squared_error: 0.0060 - mean_absolute_error: 0.0477 - val_loss: 0.0466 - val_mean_squared_error: 0.0049 - val_mean_absolute_error: 0.0414\n",
            "Epoch 25/100\n",
            "3390/3390 [==============================] - 2s 464us/sample - loss: 0.0533 - mean_squared_error: 0.0062 - mean_absolute_error: 0.0478 - val_loss: 0.0677 - val_mean_squared_error: 0.0090 - val_mean_absolute_error: 0.0621\n",
            "Epoch 26/100\n",
            "3390/3390 [==============================] - 2s 477us/sample - loss: 0.0529 - mean_squared_error: 0.0061 - mean_absolute_error: 0.0477 - val_loss: 0.0527 - val_mean_squared_error: 0.0061 - val_mean_absolute_error: 0.0478\n",
            "Epoch 27/100\n",
            "3390/3390 [==============================] - 2s 474us/sample - loss: 0.0527 - mean_squared_error: 0.0060 - mean_absolute_error: 0.0477 - val_loss: 0.0500 - val_mean_squared_error: 0.0047 - val_mean_absolute_error: 0.0449\n",
            "Epoch 28/100\n",
            "3390/3390 [==============================] - 2s 490us/sample - loss: 0.0518 - mean_squared_error: 0.0059 - mean_absolute_error: 0.0468 - val_loss: 0.0512 - val_mean_squared_error: 0.0051 - val_mean_absolute_error: 0.0463\n",
            "Epoch 29/100\n",
            "3390/3390 [==============================] - 2s 471us/sample - loss: 0.0523 - mean_squared_error: 0.0060 - mean_absolute_error: 0.0474 - val_loss: 0.0526 - val_mean_squared_error: 0.0067 - val_mean_absolute_error: 0.0478\n",
            "Epoch 30/100\n",
            "3390/3390 [==============================] - 2s 491us/sample - loss: 0.0556 - mean_squared_error: 0.0069 - mean_absolute_error: 0.0506 - val_loss: 0.0513 - val_mean_squared_error: 0.0045 - val_mean_absolute_error: 0.0457\n",
            "Epoch 31/100\n",
            "3390/3390 [==============================] - 2s 484us/sample - loss: 0.0520 - mean_squared_error: 0.0059 - mean_absolute_error: 0.0468 - val_loss: 0.0451 - val_mean_squared_error: 0.0042 - val_mean_absolute_error: 0.0403\n",
            "Epoch 32/100\n",
            "3390/3390 [==============================] - 2s 475us/sample - loss: 0.0517 - mean_squared_error: 0.0059 - mean_absolute_error: 0.0469 - val_loss: 0.0509 - val_mean_squared_error: 0.0059 - val_mean_absolute_error: 0.0458\n",
            "Epoch 33/100\n",
            "3390/3390 [==============================] - 2s 485us/sample - loss: 0.0523 - mean_squared_error: 0.0061 - mean_absolute_error: 0.0476 - val_loss: 0.0632 - val_mean_squared_error: 0.0062 - val_mean_absolute_error: 0.0587\n",
            "Epoch 34/100\n",
            "3390/3390 [==============================] - 2s 493us/sample - loss: 0.0510 - mean_squared_error: 0.0057 - mean_absolute_error: 0.0464 - val_loss: 0.0458 - val_mean_squared_error: 0.0047 - val_mean_absolute_error: 0.0411\n",
            "Epoch 35/100\n",
            "3390/3390 [==============================] - 2s 485us/sample - loss: 0.0510 - mean_squared_error: 0.0057 - mean_absolute_error: 0.0465 - val_loss: 0.0554 - val_mean_squared_error: 0.0069 - val_mean_absolute_error: 0.0508\n",
            "Epoch 36/100\n",
            "3390/3390 [==============================] - 2s 493us/sample - loss: 0.0506 - mean_squared_error: 0.0057 - mean_absolute_error: 0.0462 - val_loss: 0.0468 - val_mean_squared_error: 0.0046 - val_mean_absolute_error: 0.0424\n",
            "Epoch 37/100\n",
            "3390/3390 [==============================] - 2s 466us/sample - loss: 0.0504 - mean_squared_error: 0.0058 - mean_absolute_error: 0.0462 - val_loss: 0.0484 - val_mean_squared_error: 0.0059 - val_mean_absolute_error: 0.0442\n",
            "Epoch 38/100\n",
            "3390/3390 [==============================] - 2s 481us/sample - loss: 0.0545 - mean_squared_error: 0.0066 - mean_absolute_error: 0.0500 - val_loss: 0.0476 - val_mean_squared_error: 0.0053 - val_mean_absolute_error: 0.0433\n",
            "Epoch 39/100\n",
            "3390/3390 [==============================] - 2s 491us/sample - loss: 0.0511 - mean_squared_error: 0.0058 - mean_absolute_error: 0.0467 - val_loss: 0.0474 - val_mean_squared_error: 0.0053 - val_mean_absolute_error: 0.0432\n",
            "Epoch 40/100\n",
            "3390/3390 [==============================] - 2s 484us/sample - loss: 0.0514 - mean_squared_error: 0.0060 - mean_absolute_error: 0.0472 - val_loss: 0.0599 - val_mean_squared_error: 0.0058 - val_mean_absolute_error: 0.0556\n",
            "Epoch 41/100\n",
            "3390/3390 [==============================] - 2s 487us/sample - loss: 0.0517 - mean_squared_error: 0.0058 - mean_absolute_error: 0.0475 - val_loss: 0.0891 - val_mean_squared_error: 0.0099 - val_mean_absolute_error: 0.0852\n",
            "Epoch 42/100\n",
            "3390/3390 [==============================] - 2s 469us/sample - loss: 0.0505 - mean_squared_error: 0.0059 - mean_absolute_error: 0.0465 - val_loss: 0.0620 - val_mean_squared_error: 0.0063 - val_mean_absolute_error: 0.0583\n",
            "Epoch 43/100\n",
            "3390/3390 [==============================] - 2s 483us/sample - loss: 0.0509 - mean_squared_error: 0.0060 - mean_absolute_error: 0.0470 - val_loss: 0.0588 - val_mean_squared_error: 0.0059 - val_mean_absolute_error: 0.0549\n",
            "Epoch 44/100\n",
            "3390/3390 [==============================] - 2s 466us/sample - loss: 0.0506 - mean_squared_error: 0.0058 - mean_absolute_error: 0.0468 - val_loss: 0.0599 - val_mean_squared_error: 0.0086 - val_mean_absolute_error: 0.0562\n",
            "Epoch 45/100\n",
            "3390/3390 [==============================] - 2s 468us/sample - loss: 0.0511 - mean_squared_error: 0.0059 - mean_absolute_error: 0.0473 - val_loss: 0.0541 - val_mean_squared_error: 0.0071 - val_mean_absolute_error: 0.0503\n",
            "Epoch 46/100\n",
            "3390/3390 [==============================] - 2s 479us/sample - loss: 0.0504 - mean_squared_error: 0.0058 - mean_absolute_error: 0.0466 - val_loss: 0.0507 - val_mean_squared_error: 0.0051 - val_mean_absolute_error: 0.0469\n",
            "Epoch 47/100\n",
            "3390/3390 [==============================] - 2s 471us/sample - loss: 0.0511 - mean_squared_error: 0.0057 - mean_absolute_error: 0.0464 - val_loss: 0.0531 - val_mean_squared_error: 0.0059 - val_mean_absolute_error: 0.0464\n",
            "Epoch 48/100\n",
            "3390/3390 [==============================] - 2s 465us/sample - loss: 0.0529 - mean_squared_error: 0.0061 - mean_absolute_error: 0.0472 - val_loss: 0.0467 - val_mean_squared_error: 0.0053 - val_mean_absolute_error: 0.0418\n",
            "Epoch 49/100\n",
            "3390/3390 [==============================] - 2s 474us/sample - loss: 0.0510 - mean_squared_error: 0.0057 - mean_absolute_error: 0.0463 - val_loss: 0.0476 - val_mean_squared_error: 0.0054 - val_mean_absolute_error: 0.0431\n",
            "Epoch 50/100\n",
            "3390/3390 [==============================] - 2s 468us/sample - loss: 0.0510 - mean_squared_error: 0.0058 - mean_absolute_error: 0.0467 - val_loss: 0.0476 - val_mean_squared_error: 0.0051 - val_mean_absolute_error: 0.0434\n",
            "Epoch 51/100\n",
            "3390/3390 [==============================] - 2s 474us/sample - loss: 0.0509 - mean_squared_error: 0.0059 - mean_absolute_error: 0.0467 - val_loss: 0.0533 - val_mean_squared_error: 0.0056 - val_mean_absolute_error: 0.0492\n",
            "Epoch 52/100\n",
            "3390/3390 [==============================] - 2s 472us/sample - loss: 0.0511 - mean_squared_error: 0.0060 - mean_absolute_error: 0.0472 - val_loss: 0.0454 - val_mean_squared_error: 0.0052 - val_mean_absolute_error: 0.0415\n",
            "Epoch 53/100\n",
            "3390/3390 [==============================] - 2s 471us/sample - loss: 0.0500 - mean_squared_error: 0.0058 - mean_absolute_error: 0.0462 - val_loss: 0.0553 - val_mean_squared_error: 0.0059 - val_mean_absolute_error: 0.0517\n",
            "Epoch 54/100\n",
            "3390/3390 [==============================] - 2s 483us/sample - loss: 0.0506 - mean_squared_error: 0.0058 - mean_absolute_error: 0.0469 - val_loss: 0.0620 - val_mean_squared_error: 0.0069 - val_mean_absolute_error: 0.0585\n",
            "Epoch 55/100\n",
            "3390/3390 [==============================] - 2s 467us/sample - loss: 0.0505 - mean_squared_error: 0.0058 - mean_absolute_error: 0.0469 - val_loss: 0.0479 - val_mean_squared_error: 0.0062 - val_mean_absolute_error: 0.0443\n",
            "Epoch 56/100\n",
            "3390/3390 [==============================] - 2s 487us/sample - loss: 0.0505 - mean_squared_error: 0.0059 - mean_absolute_error: 0.0470 - val_loss: 0.0500 - val_mean_squared_error: 0.0053 - val_mean_absolute_error: 0.0464\n",
            "Epoch 57/100\n",
            "3390/3390 [==============================] - 2s 476us/sample - loss: 0.0499 - mean_squared_error: 0.0058 - mean_absolute_error: 0.0464 - val_loss: 0.0469 - val_mean_squared_error: 0.0056 - val_mean_absolute_error: 0.0435\n",
            "Epoch 58/100\n",
            "3390/3390 [==============================] - 2s 470us/sample - loss: 0.0501 - mean_squared_error: 0.0059 - mean_absolute_error: 0.0466 - val_loss: 0.0483 - val_mean_squared_error: 0.0055 - val_mean_absolute_error: 0.0450\n",
            "Epoch 59/100\n",
            "3390/3390 [==============================] - 2s 477us/sample - loss: 0.0505 - mean_squared_error: 0.0060 - mean_absolute_error: 0.0471 - val_loss: 0.0477 - val_mean_squared_error: 0.0057 - val_mean_absolute_error: 0.0444\n",
            "Epoch 60/100\n",
            "3390/3390 [==============================] - 2s 466us/sample - loss: 0.0497 - mean_squared_error: 0.0059 - mean_absolute_error: 0.0464 - val_loss: 0.0472 - val_mean_squared_error: 0.0048 - val_mean_absolute_error: 0.0439\n",
            "Epoch 61/100\n",
            "3390/3390 [==============================] - 2s 464us/sample - loss: 0.0496 - mean_squared_error: 0.0059 - mean_absolute_error: 0.0463 - val_loss: 0.0555 - val_mean_squared_error: 0.0057 - val_mean_absolute_error: 0.0521\n",
            "Epoch 62/100\n",
            "3390/3390 [==============================] - 2s 471us/sample - loss: 0.0504 - mean_squared_error: 0.0060 - mean_absolute_error: 0.0472 - val_loss: 0.0796 - val_mean_squared_error: 0.0086 - val_mean_absolute_error: 0.0764\n",
            "Epoch 63/100\n",
            "3390/3390 [==============================] - 2s 467us/sample - loss: 0.0499 - mean_squared_error: 0.0058 - mean_absolute_error: 0.0467 - val_loss: 0.0485 - val_mean_squared_error: 0.0062 - val_mean_absolute_error: 0.0454\n",
            "Epoch 64/100\n",
            "3390/3390 [==============================] - 2s 473us/sample - loss: 0.0494 - mean_squared_error: 0.0057 - mean_absolute_error: 0.0463 - val_loss: 0.0545 - val_mean_squared_error: 0.0064 - val_mean_absolute_error: 0.0512\n",
            "Epoch 65/100\n",
            "3390/3390 [==============================] - 2s 469us/sample - loss: 0.0492 - mean_squared_error: 0.0058 - mean_absolute_error: 0.0461 - val_loss: 0.0466 - val_mean_squared_error: 0.0049 - val_mean_absolute_error: 0.0434\n",
            "Epoch 66/100\n",
            "3390/3390 [==============================] - 2s 468us/sample - loss: 0.0495 - mean_squared_error: 0.0057 - mean_absolute_error: 0.0464 - val_loss: 0.0544 - val_mean_squared_error: 0.0058 - val_mean_absolute_error: 0.0513\n",
            "Epoch 67/100\n",
            "3390/3390 [==============================] - 2s 470us/sample - loss: 0.0496 - mean_squared_error: 0.0059 - mean_absolute_error: 0.0466 - val_loss: 0.0458 - val_mean_squared_error: 0.0057 - val_mean_absolute_error: 0.0427\n",
            "Epoch 68/100\n",
            "3390/3390 [==============================] - 2s 465us/sample - loss: 0.0491 - mean_squared_error: 0.0057 - mean_absolute_error: 0.0461 - val_loss: 0.0441 - val_mean_squared_error: 0.0049 - val_mean_absolute_error: 0.0411\n",
            "Epoch 69/100\n",
            "3390/3390 [==============================] - 2s 466us/sample - loss: 0.0500 - mean_squared_error: 0.0059 - mean_absolute_error: 0.0470 - val_loss: 0.0449 - val_mean_squared_error: 0.0052 - val_mean_absolute_error: 0.0419\n",
            "Epoch 70/100\n",
            "3390/3390 [==============================] - 2s 467us/sample - loss: 0.0520 - mean_squared_error: 0.0065 - mean_absolute_error: 0.0490 - val_loss: 0.0681 - val_mean_squared_error: 0.0077 - val_mean_absolute_error: 0.0648\n",
            "Epoch 71/100\n",
            "3390/3390 [==============================] - 2s 472us/sample - loss: 0.0501 - mean_squared_error: 0.0060 - mean_absolute_error: 0.0470 - val_loss: 0.0458 - val_mean_squared_error: 0.0048 - val_mean_absolute_error: 0.0428\n",
            "Epoch 72/100\n",
            "3390/3390 [==============================] - 2s 460us/sample - loss: 0.0491 - mean_squared_error: 0.0057 - mean_absolute_error: 0.0461 - val_loss: 0.0455 - val_mean_squared_error: 0.0052 - val_mean_absolute_error: 0.0425\n",
            "Epoch 73/100\n",
            "3390/3390 [==============================] - 2s 469us/sample - loss: 0.0501 - mean_squared_error: 0.0060 - mean_absolute_error: 0.0472 - val_loss: 0.0538 - val_mean_squared_error: 0.0062 - val_mean_absolute_error: 0.0509\n",
            "Epoch 74/100\n",
            "3390/3390 [==============================] - 2s 463us/sample - loss: 0.0498 - mean_squared_error: 0.0059 - mean_absolute_error: 0.0469 - val_loss: 0.0461 - val_mean_squared_error: 0.0052 - val_mean_absolute_error: 0.0431\n",
            "Epoch 75/100\n",
            "3390/3390 [==============================] - 2s 464us/sample - loss: 0.0499 - mean_squared_error: 0.0060 - mean_absolute_error: 0.0469 - val_loss: 0.0611 - val_mean_squared_error: 0.0067 - val_mean_absolute_error: 0.0581\n",
            "Epoch 76/100\n",
            "3390/3390 [==============================] - 2s 472us/sample - loss: 0.0498 - mean_squared_error: 0.0059 - mean_absolute_error: 0.0468 - val_loss: 0.0450 - val_mean_squared_error: 0.0054 - val_mean_absolute_error: 0.0422\n",
            "Epoch 77/100\n",
            "3390/3390 [==============================] - 2s 472us/sample - loss: 0.0504 - mean_squared_error: 0.0059 - mean_absolute_error: 0.0475 - val_loss: 0.0470 - val_mean_squared_error: 0.0049 - val_mean_absolute_error: 0.0441\n",
            "Epoch 78/100\n",
            "3390/3390 [==============================] - 2s 466us/sample - loss: 0.0495 - mean_squared_error: 0.0058 - mean_absolute_error: 0.0466 - val_loss: 0.0448 - val_mean_squared_error: 0.0053 - val_mean_absolute_error: 0.0420\n",
            "Epoch 79/100\n",
            "3390/3390 [==============================] - 2s 469us/sample - loss: 0.0493 - mean_squared_error: 0.0059 - mean_absolute_error: 0.0464 - val_loss: 0.0493 - val_mean_squared_error: 0.0055 - val_mean_absolute_error: 0.0465\n",
            "Epoch 80/100\n",
            "3390/3390 [==============================] - 2s 461us/sample - loss: 0.0494 - mean_squared_error: 0.0058 - mean_absolute_error: 0.0466 - val_loss: 0.0572 - val_mean_squared_error: 0.0051 - val_mean_absolute_error: 0.0544\n",
            "Epoch 81/100\n",
            "3390/3390 [==============================] - 2s 467us/sample - loss: 0.0496 - mean_squared_error: 0.0058 - mean_absolute_error: 0.0468 - val_loss: 0.0492 - val_mean_squared_error: 0.0052 - val_mean_absolute_error: 0.0465\n",
            "Epoch 82/100\n",
            "3390/3390 [==============================] - 2s 463us/sample - loss: 0.0493 - mean_squared_error: 0.0058 - mean_absolute_error: 0.0466 - val_loss: 0.0486 - val_mean_squared_error: 0.0053 - val_mean_absolute_error: 0.0459\n",
            "Epoch 83/100\n",
            "3390/3390 [==============================] - 2s 467us/sample - loss: 0.0494 - mean_squared_error: 0.0058 - mean_absolute_error: 0.0467 - val_loss: 0.0473 - val_mean_squared_error: 0.0062 - val_mean_absolute_error: 0.0446\n",
            "Epoch 84/100\n",
            "3390/3390 [==============================] - 2s 474us/sample - loss: 0.0487 - mean_squared_error: 0.0058 - mean_absolute_error: 0.0460 - val_loss: 0.0476 - val_mean_squared_error: 0.0048 - val_mean_absolute_error: 0.0449\n",
            "Epoch 85/100\n",
            "3390/3390 [==============================] - 2s 465us/sample - loss: 0.0482 - mean_squared_error: 0.0057 - mean_absolute_error: 0.0456 - val_loss: 0.0564 - val_mean_squared_error: 0.0053 - val_mean_absolute_error: 0.0538\n",
            "Epoch 86/100\n",
            "3390/3390 [==============================] - 2s 468us/sample - loss: 0.0520 - mean_squared_error: 0.0067 - mean_absolute_error: 0.0493 - val_loss: 0.0479 - val_mean_squared_error: 0.0050 - val_mean_absolute_error: 0.0452\n",
            "Epoch 87/100\n",
            "3390/3390 [==============================] - 2s 464us/sample - loss: 0.0496 - mean_squared_error: 0.0061 - mean_absolute_error: 0.0470 - val_loss: 0.0485 - val_mean_squared_error: 0.0059 - val_mean_absolute_error: 0.0459\n",
            "Epoch 88/100\n",
            "3390/3390 [==============================] - 2s 467us/sample - loss: 0.0491 - mean_squared_error: 0.0059 - mean_absolute_error: 0.0466 - val_loss: 0.0431 - val_mean_squared_error: 0.0047 - val_mean_absolute_error: 0.0406\n",
            "Epoch 89/100\n",
            "3390/3390 [==============================] - 2s 476us/sample - loss: 0.0489 - mean_squared_error: 0.0058 - mean_absolute_error: 0.0463 - val_loss: 0.0562 - val_mean_squared_error: 0.0057 - val_mean_absolute_error: 0.0534\n",
            "Epoch 90/100\n",
            "3390/3390 [==============================] - 2s 462us/sample - loss: 0.0492 - mean_squared_error: 0.0059 - mean_absolute_error: 0.0466 - val_loss: 0.0427 - val_mean_squared_error: 0.0047 - val_mean_absolute_error: 0.0403\n",
            "Epoch 91/100\n",
            "3390/3390 [==============================] - 2s 466us/sample - loss: 0.0497 - mean_squared_error: 0.0061 - mean_absolute_error: 0.0472 - val_loss: 0.0573 - val_mean_squared_error: 0.0086 - val_mean_absolute_error: 0.0548\n",
            "Epoch 92/100\n",
            "3390/3390 [==============================] - 2s 463us/sample - loss: 0.0486 - mean_squared_error: 0.0057 - mean_absolute_error: 0.0461 - val_loss: 0.0482 - val_mean_squared_error: 0.0043 - val_mean_absolute_error: 0.0457\n",
            "Epoch 93/100\n",
            "3390/3390 [==============================] - 2s 461us/sample - loss: 0.0493 - mean_squared_error: 0.0058 - mean_absolute_error: 0.0468 - val_loss: 0.0757 - val_mean_squared_error: 0.0091 - val_mean_absolute_error: 0.0726\n",
            "Epoch 94/100\n",
            "3390/3390 [==============================] - 2s 459us/sample - loss: 0.0497 - mean_squared_error: 0.0058 - mean_absolute_error: 0.0471 - val_loss: 0.0436 - val_mean_squared_error: 0.0049 - val_mean_absolute_error: 0.0412\n",
            "Epoch 95/100\n",
            "3390/3390 [==============================] - 2s 463us/sample - loss: 0.0493 - mean_squared_error: 0.0057 - mean_absolute_error: 0.0468 - val_loss: 0.0472 - val_mean_squared_error: 0.0057 - val_mean_absolute_error: 0.0446\n",
            "Epoch 96/100\n",
            "3390/3390 [==============================] - 2s 471us/sample - loss: 0.0497 - mean_squared_error: 0.0061 - mean_absolute_error: 0.0472 - val_loss: 0.0428 - val_mean_squared_error: 0.0047 - val_mean_absolute_error: 0.0404\n",
            "Epoch 97/100\n",
            "3390/3390 [==============================] - 2s 466us/sample - loss: 0.0493 - mean_squared_error: 0.0059 - mean_absolute_error: 0.0468 - val_loss: 0.0462 - val_mean_squared_error: 0.0045 - val_mean_absolute_error: 0.0437\n",
            "Epoch 98/100\n",
            "3390/3390 [==============================] - 2s 466us/sample - loss: 0.0488 - mean_squared_error: 0.0058 - mean_absolute_error: 0.0464 - val_loss: 0.0451 - val_mean_squared_error: 0.0044 - val_mean_absolute_error: 0.0427\n",
            "Epoch 99/100\n",
            "3390/3390 [==============================] - 2s 456us/sample - loss: 0.0491 - mean_squared_error: 0.0058 - mean_absolute_error: 0.0467 - val_loss: 0.0444 - val_mean_squared_error: 0.0049 - val_mean_absolute_error: 0.0420\n",
            "Epoch 100/100\n",
            "3390/3390 [==============================] - 2s 467us/sample - loss: 0.0489 - mean_squared_error: 0.0058 - mean_absolute_error: 0.0465 - val_loss: 0.0512 - val_mean_squared_error: 0.0047 - val_mean_absolute_error: 0.0487\n",
            "time:  164.5530915260315 seconds\n"
          ],
          "name": "stdout"
        }
      ]
    },
    {
      "cell_type": "code",
      "metadata": {
        "id": "ZAHueOgKQJRc",
        "colab_type": "code",
        "colab": {}
      },
      "source": [
        "# from keras.models import load_model\n",
        "# model.save('SeoulBusan_20191201.h5')"
      ],
      "execution_count": 0,
      "outputs": []
    },
    {
      "cell_type": "code",
      "metadata": {
        "id": "XqLBRfbJPbFq",
        "colab_type": "code",
        "colab": {}
      },
      "source": [
        "# from tensorflow.keras.models import load_model\n",
        "# model = load_model('SeoulBusan_BatchNorm.h5')"
      ],
      "execution_count": 0,
      "outputs": []
    },
    {
      "cell_type": "code",
      "metadata": {
        "id": "OoBIv_zh_VJK",
        "colab_type": "code",
        "outputId": "788238df-7199-4f89-9f20-e439c7a1bb23",
        "colab": {
          "base_uri": "https://localhost:8080/",
          "height": 621
        }
      },
      "source": [
        "plt.figure(figsize=(12,10))\n",
        "plt.plot(history.history['loss'])\n",
        "plt.plot(history.history['val_loss'])\n",
        "plt.title('model loss')\n",
        "plt.ylabel('loss')\n",
        "plt.xlabel('epoch')\n",
        "plt.legend(['train', 'validation'], loc='upper left')\n",
        "plt.show()"
      ],
      "execution_count": 0,
      "outputs": [
        {
          "output_type": "display_data",
          "data": {
            "image/png": "[encoded data removed]",
            "text/plain": [
              "<Figure size 864x720 with 1 Axes>"
            ]
          },
          "metadata": {
            "tags": []
          }
        }
      ]
    },
    {
      "cell_type": "markdown",
      "metadata": {
        "id": "EZrWO-hcEs5v",
        "colab_type": "text"
      },
      "source": [
        "로그 스케일 루트 스케일 lr 스케쥴러 plot  minseokkim@kaist.ac.kr"
      ]
    },
    {
      "cell_type": "markdown",
      "metadata": {
        "id": "13a10OBcGodN",
        "colab_type": "text"
      },
      "source": [
        "feature\n",
        " \n",
        "light_num/crossway_num/center/lanes/max_spd/road_length/road_bt/school_num/\tstations/police_num  minseokkim@kaist.ac.kr"
      ]
    },
    {
      "cell_type": "code",
      "metadata": {
        "id": "i_72y6c5d_Wl",
        "colab_type": "code",
        "outputId": "1f9e654c-acdf-4b17-d78b-8191c915c849",
        "colab": {
          "base_uri": "https://localhost:8080/",
          "height": 52
        }
      },
      "source": [
        "results = model.evaluate(x_test, y_test, batch_size = 7)\n",
        "results"
      ],
      "execution_count": 0,
      "outputs": [
        {
          "output_type": "stream",
          "text": [
            "1212/1212 [==============================] - 0s 184us/sample - loss: 0.0495 - mean_squared_error: 0.0040 - mean_absolute_error: 0.0469\n"
          ],
          "name": "stdout"
        },
        {
          "output_type": "execute_result",
          "data": {
            "text/plain": [
              "[0.04945403229900122, 0.0039855707, 0.046949346]"
            ]
          },
          "metadata": {
            "tags": []
          },
          "execution_count": 82
        }
      ]
    },
    {
      "cell_type": "code",
      "metadata": {
        "id": "CjSd7r66TnEW",
        "colab_type": "code",
        "colab": {}
      },
      "source": [
        "total_predictions = model.predict(x_test).flatten()"
      ],
      "execution_count": 0,
      "outputs": []
    },
    {
      "cell_type": "code",
      "metadata": {
        "id": "ZroeBB4tVFkd",
        "colab_type": "code",
        "colab": {}
      },
      "source": [
        "inverse_total_predictions = maxabs_scaler_y.inverse_transform(total_predictions.reshape(-1,1)) \n",
        "inverse_y_test = maxabs_scaler_y.inverse_transform(y_test)"
      ],
      "execution_count": 0,
      "outputs": []
    },
    {
      "cell_type": "code",
      "metadata": {
        "id": "GcJdtP5wCxd5",
        "colab_type": "code",
        "outputId": "45e3b021-a061-49f9-a4bb-39c45294daf0",
        "colab": {
          "base_uri": "https://localhost:8080/",
          "height": 624
        }
      },
      "source": [
        "# test_predictions = model.predict(x_test).flatten()\n",
        "plt.figure(figsize = (12,10))\n",
        "\n",
        "# plt.scatter(y_test, test_predictions)\n",
        "plt.scatter(y_test, total_predictions)\n",
        "plt.xlabel('True value')\n",
        "plt.ylabel('Predictions')\n",
        "plt.axis('equal')\n",
        "plt.axis('square')\n",
        "plt.plot([-400,400],[-400,400])"
      ],
      "execution_count": 0,
      "outputs": [
        {
          "output_type": "execute_result",
          "data": {
            "text/plain": [
              "[<matplotlib.lines.Line2D at 0x7f1aa1dddf60>]"
            ]
          },
          "metadata": {
            "tags": []
          },
          "execution_count": 85
        },
        {
          "output_type": "display_data",
          "data": {
            "image/png": "[encoded data removed]",
            "text/plain": [
              "<Figure size 864x720 with 1 Axes>"
            ]
          },
          "metadata": {
            "tags": []
          }
        }
      ]
    },
    {
      "cell_type": "code",
      "metadata": {
        "id": "agJ0ohvGVhRt",
        "colab_type": "code",
        "outputId": "52b927c2-7aa1-42cb-92fb-7268c643291f",
        "colab": {
          "base_uri": "https://localhost:8080/",
          "height": 52
        }
      },
      "source": [
        "total_mse = mean_squared_error(inverse_y_test, inverse_total_predictions)\n",
        "total_r2 = r2_score(inverse_y_test, inverse_total_predictions)\n",
        "\n",
        "print('total_mse: ',total_mse)\n",
        "print('total_r2: ',total_r2)"
      ],
      "execution_count": 0,
      "outputs": [
        {
          "output_type": "stream",
          "text": [
            "total_mse:  673.2465536809603\n",
            "total_r2:  0.521352366423337\n"
          ],
          "name": "stdout"
        }
      ]
    },
    {
      "cell_type": "code",
      "metadata": {
        "id": "Rs5FJ5l4E8eo",
        "colab_type": "code",
        "outputId": "3c3b79a6-8678-4379-d884-6d803c4a9a4b",
        "colab": {
          "base_uri": "https://localhost:8080/",
          "height": 624
        }
      },
      "source": [
        "# test_predictions = model.predict(x_test).flatten()\n",
        "plt.figure(figsize = (12,10))\n",
        "\n",
        "# plt.scatter(y_test, test_predictions)\n",
        "plt.scatter(inverse_y_test, inverse_total_predictions)\n",
        "plt.xlabel('True value')\n",
        "plt.ylabel('Predictions')\n",
        "plt.axis('equal')\n",
        "plt.axis('square')\n",
        "plt.plot([-400,400],[-400,400])"
      ],
      "execution_count": 0,
      "outputs": [
        {
          "output_type": "execute_result",
          "data": {
            "text/plain": [
              "[<matplotlib.lines.Line2D at 0x7f1aa08d4f28>]"
            ]
          },
          "metadata": {
            "tags": []
          },
          "execution_count": 87
        },
        {
          "output_type": "display_data",
          "data": {
            "image/png": "[encoded data removed]",
            "text/plain": [
              "<Figure size 864x720 with 1 Axes>"
            ]
          },
          "metadata": {
            "tags": []
          }
        }
      ]
    },
    {
      "cell_type": "code",
      "metadata": {
        "id": "YFiERXe7iNcK",
        "colab_type": "code",
        "outputId": "7c461b9f-b714-4fbc-b727-cad4dea1be85",
        "colab": {
          "base_uri": "https://localhost:8080/",
          "height": 1000
        }
      },
      "source": [
        "start = time.time()\n",
        "history = model.fit(x_train_CtoC, y_train_CtoC, epochs = 70, batch_size= 7,  verbose=1,validation_split=0.2)\n",
        "print(\"time: \", time.time() - start ,\"seconds\")"
      ],
      "execution_count": 0,
      "outputs": [
        {
          "output_type": "stream",
          "text": [
            "Train on 3875 samples, validate on 969 samples\n",
            "Epoch 1/70\n",
            "3875/3875 [==============================] - 2s 445us/sample - loss: 0.0459 - mean_squared_error: 0.0058 - mean_absolute_error: 0.0435 - val_loss: 0.0468 - val_mean_squared_error: 0.0043 - val_mean_absolute_error: 0.0445\n",
            "Epoch 2/70\n",
            "3875/3875 [==============================] - 2s 437us/sample - loss: 0.0462 - mean_squared_error: 0.0059 - mean_absolute_error: 0.0439 - val_loss: 0.0519 - val_mean_squared_error: 0.0050 - val_mean_absolute_error: 0.0496\n",
            "Epoch 3/70\n",
            "3875/3875 [==============================] - 2s 428us/sample - loss: 0.0453 - mean_squared_error: 0.0057 - mean_absolute_error: 0.0430 - val_loss: 0.0469 - val_mean_squared_error: 0.0042 - val_mean_absolute_error: 0.0447\n",
            "Epoch 4/70\n",
            "3875/3875 [==============================] - 2s 427us/sample - loss: 0.0454 - mean_squared_error: 0.0058 - mean_absolute_error: 0.0431 - val_loss: 0.0445 - val_mean_squared_error: 0.0057 - val_mean_absolute_error: 0.0422\n",
            "Epoch 5/70\n",
            "3875/3875 [==============================] - 2s 429us/sample - loss: 0.0456 - mean_squared_error: 0.0057 - mean_absolute_error: 0.0434 - val_loss: 0.0531 - val_mean_squared_error: 0.0066 - val_mean_absolute_error: 0.0509\n",
            "Epoch 6/70\n",
            "3875/3875 [==============================] - 2s 434us/sample - loss: 0.0455 - mean_squared_error: 0.0056 - mean_absolute_error: 0.0433 - val_loss: 0.0391 - val_mean_squared_error: 0.0038 - val_mean_absolute_error: 0.0370\n",
            "Epoch 7/70\n",
            "3875/3875 [==============================] - 2s 437us/sample - loss: 0.0448 - mean_squared_error: 0.0057 - mean_absolute_error: 0.0426 - val_loss: 0.0410 - val_mean_squared_error: 0.0040 - val_mean_absolute_error: 0.0388\n",
            "Epoch 8/70\n",
            "3875/3875 [==============================] - 2s 441us/sample - loss: 0.0459 - mean_squared_error: 0.0059 - mean_absolute_error: 0.0437 - val_loss: 0.0411 - val_mean_squared_error: 0.0044 - val_mean_absolute_error: 0.0390\n",
            "Epoch 9/70\n",
            "3875/3875 [==============================] - 2s 442us/sample - loss: 0.0460 - mean_squared_error: 0.0059 - mean_absolute_error: 0.0439 - val_loss: 0.0384 - val_mean_squared_error: 0.0036 - val_mean_absolute_error: 0.0364\n",
            "Epoch 10/70\n",
            "3875/3875 [==============================] - 2s 427us/sample - loss: 0.0458 - mean_squared_error: 0.0057 - mean_absolute_error: 0.0437 - val_loss: 0.0393 - val_mean_squared_error: 0.0045 - val_mean_absolute_error: 0.0372\n",
            "Epoch 11/70\n",
            "3875/3875 [==============================] - 2s 429us/sample - loss: 0.0451 - mean_squared_error: 0.0055 - mean_absolute_error: 0.0430 - val_loss: 0.0389 - val_mean_squared_error: 0.0042 - val_mean_absolute_error: 0.0367\n",
            "Epoch 12/70\n",
            "3875/3875 [==============================] - 2s 435us/sample - loss: 0.0455 - mean_squared_error: 0.0058 - mean_absolute_error: 0.0433 - val_loss: 0.0398 - val_mean_squared_error: 0.0044 - val_mean_absolute_error: 0.0377\n",
            "Epoch 13/70\n",
            "3875/3875 [==============================] - 2s 441us/sample - loss: 0.0450 - mean_squared_error: 0.0056 - mean_absolute_error: 0.0429 - val_loss: 0.0391 - val_mean_squared_error: 0.0037 - val_mean_absolute_error: 0.0369\n",
            "Epoch 14/70\n",
            "3875/3875 [==============================] - 2s 446us/sample - loss: 0.0453 - mean_squared_error: 0.0056 - mean_absolute_error: 0.0432 - val_loss: 0.0390 - val_mean_squared_error: 0.0041 - val_mean_absolute_error: 0.0369\n",
            "Epoch 15/70\n",
            "3875/3875 [==============================] - 2s 428us/sample - loss: 0.0453 - mean_squared_error: 0.0058 - mean_absolute_error: 0.0432 - val_loss: 0.0434 - val_mean_squared_error: 0.0053 - val_mean_absolute_error: 0.0413\n",
            "Epoch 16/70\n",
            "3875/3875 [==============================] - 2s 434us/sample - loss: 0.0458 - mean_squared_error: 0.0059 - mean_absolute_error: 0.0438 - val_loss: 0.0408 - val_mean_squared_error: 0.0047 - val_mean_absolute_error: 0.0388\n",
            "Epoch 17/70\n",
            "3875/3875 [==============================] - 2s 428us/sample - loss: 0.0456 - mean_squared_error: 0.0057 - mean_absolute_error: 0.0435 - val_loss: 0.0394 - val_mean_squared_error: 0.0043 - val_mean_absolute_error: 0.0374\n",
            "Epoch 18/70\n",
            "3875/3875 [==============================] - 2s 427us/sample - loss: 0.0452 - mean_squared_error: 0.0056 - mean_absolute_error: 0.0432 - val_loss: 0.0411 - val_mean_squared_error: 0.0052 - val_mean_absolute_error: 0.0391\n",
            "Epoch 19/70\n",
            "3875/3875 [==============================] - 2s 443us/sample - loss: 0.0451 - mean_squared_error: 0.0059 - mean_absolute_error: 0.0431 - val_loss: 0.0392 - val_mean_squared_error: 0.0039 - val_mean_absolute_error: 0.0371\n",
            "Epoch 20/70\n",
            "3875/3875 [==============================] - 2s 431us/sample - loss: 0.0447 - mean_squared_error: 0.0057 - mean_absolute_error: 0.0427 - val_loss: 0.0435 - val_mean_squared_error: 0.0042 - val_mean_absolute_error: 0.0415\n",
            "Epoch 21/70\n",
            "3875/3875 [==============================] - 2s 430us/sample - loss: 0.0452 - mean_squared_error: 0.0058 - mean_absolute_error: 0.0431 - val_loss: 0.0428 - val_mean_squared_error: 0.0043 - val_mean_absolute_error: 0.0408\n",
            "Epoch 22/70\n",
            "3875/3875 [==============================] - 2s 428us/sample - loss: 0.0450 - mean_squared_error: 0.0058 - mean_absolute_error: 0.0431 - val_loss: 0.0405 - val_mean_squared_error: 0.0047 - val_mean_absolute_error: 0.0386\n",
            "Epoch 23/70\n",
            "3875/3875 [==============================] - 2s 431us/sample - loss: 0.0450 - mean_squared_error: 0.0056 - mean_absolute_error: 0.0430 - val_loss: 0.0493 - val_mean_squared_error: 0.0073 - val_mean_absolute_error: 0.0473\n",
            "Epoch 24/70\n",
            "3875/3875 [==============================] - 2s 429us/sample - loss: 0.0447 - mean_squared_error: 0.0056 - mean_absolute_error: 0.0427 - val_loss: 0.0386 - val_mean_squared_error: 0.0042 - val_mean_absolute_error: 0.0366\n",
            "Epoch 25/70\n",
            "3875/3875 [==============================] - 2s 441us/sample - loss: 0.0452 - mean_squared_error: 0.0058 - mean_absolute_error: 0.0432 - val_loss: 0.0391 - val_mean_squared_error: 0.0045 - val_mean_absolute_error: 0.0372\n",
            "Epoch 26/70\n",
            "3875/3875 [==============================] - 2s 441us/sample - loss: 0.0448 - mean_squared_error: 0.0057 - mean_absolute_error: 0.0428 - val_loss: 0.0397 - val_mean_squared_error: 0.0041 - val_mean_absolute_error: 0.0378\n",
            "Epoch 27/70\n",
            "3875/3875 [==============================] - 2s 418us/sample - loss: 0.0448 - mean_squared_error: 0.0057 - mean_absolute_error: 0.0428 - val_loss: 0.0403 - val_mean_squared_error: 0.0046 - val_mean_absolute_error: 0.0383\n",
            "Epoch 28/70\n",
            "3875/3875 [==============================] - 2s 430us/sample - loss: 0.0454 - mean_squared_error: 0.0058 - mean_absolute_error: 0.0435 - val_loss: 0.0383 - val_mean_squared_error: 0.0042 - val_mean_absolute_error: 0.0363\n",
            "Epoch 29/70\n",
            "3875/3875 [==============================] - 2s 428us/sample - loss: 0.0450 - mean_squared_error: 0.0058 - mean_absolute_error: 0.0431 - val_loss: 0.0380 - val_mean_squared_error: 0.0039 - val_mean_absolute_error: 0.0361\n",
            "Epoch 30/70\n",
            "3875/3875 [==============================] - 2s 427us/sample - loss: 0.0446 - mean_squared_error: 0.0055 - mean_absolute_error: 0.0427 - val_loss: 0.0389 - val_mean_squared_error: 0.0042 - val_mean_absolute_error: 0.0370\n",
            "Epoch 31/70\n",
            "3875/3875 [==============================] - 2s 432us/sample - loss: 0.0452 - mean_squared_error: 0.0058 - mean_absolute_error: 0.0433 - val_loss: 0.0388 - val_mean_squared_error: 0.0041 - val_mean_absolute_error: 0.0369\n",
            "Epoch 32/70\n",
            "3875/3875 [==============================] - 2s 442us/sample - loss: 0.0444 - mean_squared_error: 0.0056 - mean_absolute_error: 0.0425 - val_loss: 0.0382 - val_mean_squared_error: 0.0040 - val_mean_absolute_error: 0.0363\n",
            "Epoch 33/70\n",
            "3875/3875 [==============================] - 2s 430us/sample - loss: 0.0452 - mean_squared_error: 0.0056 - mean_absolute_error: 0.0433 - val_loss: 0.0396 - val_mean_squared_error: 0.0044 - val_mean_absolute_error: 0.0377\n",
            "Epoch 34/70\n",
            "3875/3875 [==============================] - 2s 432us/sample - loss: 0.0446 - mean_squared_error: 0.0055 - mean_absolute_error: 0.0427 - val_loss: 0.0407 - val_mean_squared_error: 0.0041 - val_mean_absolute_error: 0.0388\n",
            "Epoch 35/70\n",
            "3875/3875 [==============================] - 2s 427us/sample - loss: 0.0450 - mean_squared_error: 0.0057 - mean_absolute_error: 0.0432 - val_loss: 0.0411 - val_mean_squared_error: 0.0042 - val_mean_absolute_error: 0.0392\n",
            "Epoch 36/70\n",
            "3875/3875 [==============================] - 2s 427us/sample - loss: 0.0441 - mean_squared_error: 0.0054 - mean_absolute_error: 0.0423 - val_loss: 0.0392 - val_mean_squared_error: 0.0045 - val_mean_absolute_error: 0.0373\n",
            "Epoch 37/70\n",
            "3875/3875 [==============================] - 2s 438us/sample - loss: 0.0451 - mean_squared_error: 0.0058 - mean_absolute_error: 0.0433 - val_loss: 0.0392 - val_mean_squared_error: 0.0044 - val_mean_absolute_error: 0.0373\n",
            "Epoch 38/70\n",
            "3875/3875 [==============================] - 2s 433us/sample - loss: 0.0445 - mean_squared_error: 0.0055 - mean_absolute_error: 0.0426 - val_loss: 0.0396 - val_mean_squared_error: 0.0043 - val_mean_absolute_error: 0.0378\n",
            "Epoch 39/70\n",
            "3875/3875 [==============================] - 2s 441us/sample - loss: 0.0446 - mean_squared_error: 0.0056 - mean_absolute_error: 0.0428 - val_loss: 0.0416 - val_mean_squared_error: 0.0053 - val_mean_absolute_error: 0.0398\n",
            "Epoch 40/70\n",
            "3875/3875 [==============================] - 2s 438us/sample - loss: 0.0447 - mean_squared_error: 0.0056 - mean_absolute_error: 0.0429 - val_loss: 0.0405 - val_mean_squared_error: 0.0046 - val_mean_absolute_error: 0.0387\n",
            "Epoch 41/70\n",
            "3875/3875 [==============================] - 2s 431us/sample - loss: 0.0451 - mean_squared_error: 0.0058 - mean_absolute_error: 0.0433 - val_loss: 0.0436 - val_mean_squared_error: 0.0043 - val_mean_absolute_error: 0.0418\n",
            "Epoch 42/70\n",
            "3875/3875 [==============================] - 2s 436us/sample - loss: 0.0449 - mean_squared_error: 0.0057 - mean_absolute_error: 0.0431 - val_loss: 0.0378 - val_mean_squared_error: 0.0039 - val_mean_absolute_error: 0.0361\n",
            "Epoch 43/70\n",
            "3875/3875 [==============================] - 2s 439us/sample - loss: 0.0448 - mean_squared_error: 0.0056 - mean_absolute_error: 0.0430 - val_loss: 0.0391 - val_mean_squared_error: 0.0044 - val_mean_absolute_error: 0.0374\n",
            "Epoch 44/70\n",
            "3875/3875 [==============================] - 2s 428us/sample - loss: 0.0446 - mean_squared_error: 0.0057 - mean_absolute_error: 0.0429 - val_loss: 0.0417 - val_mean_squared_error: 0.0051 - val_mean_absolute_error: 0.0400\n",
            "Epoch 45/70\n",
            "3875/3875 [==============================] - 2s 445us/sample - loss: 0.0451 - mean_squared_error: 0.0056 - mean_absolute_error: 0.0433 - val_loss: 0.0431 - val_mean_squared_error: 0.0040 - val_mean_absolute_error: 0.0413\n",
            "Epoch 46/70\n",
            "3875/3875 [==============================] - 2s 439us/sample - loss: 0.0450 - mean_squared_error: 0.0057 - mean_absolute_error: 0.0432 - val_loss: 0.0456 - val_mean_squared_error: 0.0061 - val_mean_absolute_error: 0.0438\n",
            "Epoch 47/70\n",
            "3875/3875 [==============================] - 2s 429us/sample - loss: 0.0447 - mean_squared_error: 0.0058 - mean_absolute_error: 0.0430 - val_loss: 0.0427 - val_mean_squared_error: 0.0047 - val_mean_absolute_error: 0.0410\n",
            "Epoch 48/70\n",
            "3875/3875 [==============================] - 2s 424us/sample - loss: 0.0448 - mean_squared_error: 0.0057 - mean_absolute_error: 0.0431 - val_loss: 0.0408 - val_mean_squared_error: 0.0043 - val_mean_absolute_error: 0.0390\n",
            "Epoch 49/70\n",
            "3875/3875 [==============================] - 2s 434us/sample - loss: 0.0448 - mean_squared_error: 0.0058 - mean_absolute_error: 0.0430 - val_loss: 0.0415 - val_mean_squared_error: 0.0047 - val_mean_absolute_error: 0.0397\n",
            "Epoch 50/70\n",
            "3875/3875 [==============================] - 2s 449us/sample - loss: 0.0446 - mean_squared_error: 0.0057 - mean_absolute_error: 0.0428 - val_loss: 0.0655 - val_mean_squared_error: 0.0099 - val_mean_absolute_error: 0.0638\n",
            "Epoch 51/70\n",
            "3875/3875 [==============================] - 2s 428us/sample - loss: 0.0445 - mean_squared_error: 0.0057 - mean_absolute_error: 0.0428 - val_loss: 0.0393 - val_mean_squared_error: 0.0047 - val_mean_absolute_error: 0.0376\n",
            "Epoch 52/70\n",
            "3875/3875 [==============================] - 2s 436us/sample - loss: 0.0445 - mean_squared_error: 0.0057 - mean_absolute_error: 0.0428 - val_loss: 0.0388 - val_mean_squared_error: 0.0042 - val_mean_absolute_error: 0.0371\n",
            "Epoch 53/70\n",
            "3875/3875 [==============================] - 2s 434us/sample - loss: 0.0444 - mean_squared_error: 0.0057 - mean_absolute_error: 0.0427 - val_loss: 0.0410 - val_mean_squared_error: 0.0051 - val_mean_absolute_error: 0.0393\n",
            "Epoch 54/70\n",
            "3875/3875 [==============================] - 2s 428us/sample - loss: 0.0450 - mean_squared_error: 0.0058 - mean_absolute_error: 0.0433 - val_loss: 0.0390 - val_mean_squared_error: 0.0045 - val_mean_absolute_error: 0.0373\n",
            "Epoch 55/70\n",
            "3875/3875 [==============================] - 2s 443us/sample - loss: 0.0445 - mean_squared_error: 0.0057 - mean_absolute_error: 0.0428 - val_loss: 0.0409 - val_mean_squared_error: 0.0049 - val_mean_absolute_error: 0.0392\n",
            "Epoch 56/70\n",
            "3875/3875 [==============================] - 2s 427us/sample - loss: 0.0447 - mean_squared_error: 0.0057 - mean_absolute_error: 0.0429 - val_loss: 0.0429 - val_mean_squared_error: 0.0046 - val_mean_absolute_error: 0.0412\n",
            "Epoch 57/70\n",
            "3875/3875 [==============================] - 2s 429us/sample - loss: 0.0442 - mean_squared_error: 0.0056 - mean_absolute_error: 0.0425 - val_loss: 0.0395 - val_mean_squared_error: 0.0045 - val_mean_absolute_error: 0.0378\n",
            "Epoch 58/70\n",
            "3875/3875 [==============================] - 2s 437us/sample - loss: 0.0448 - mean_squared_error: 0.0057 - mean_absolute_error: 0.0432 - val_loss: 0.0383 - val_mean_squared_error: 0.0043 - val_mean_absolute_error: 0.0367\n",
            "Epoch 59/70\n",
            "3875/3875 [==============================] - 2s 440us/sample - loss: 0.0450 - mean_squared_error: 0.0058 - mean_absolute_error: 0.0434 - val_loss: 0.0391 - val_mean_squared_error: 0.0046 - val_mean_absolute_error: 0.0375\n",
            "Epoch 60/70\n",
            "3875/3875 [==============================] - 2s 429us/sample - loss: 0.0442 - mean_squared_error: 0.0056 - mean_absolute_error: 0.0426 - val_loss: 0.0489 - val_mean_squared_error: 0.0062 - val_mean_absolute_error: 0.0473\n",
            "Epoch 61/70\n",
            "3875/3875 [==============================] - 2s 439us/sample - loss: 0.0448 - mean_squared_error: 0.0057 - mean_absolute_error: 0.0431 - val_loss: 0.0395 - val_mean_squared_error: 0.0043 - val_mean_absolute_error: 0.0379\n",
            "Epoch 62/70\n",
            "3875/3875 [==============================] - 2s 435us/sample - loss: 0.0443 - mean_squared_error: 0.0056 - mean_absolute_error: 0.0427 - val_loss: 0.0404 - val_mean_squared_error: 0.0050 - val_mean_absolute_error: 0.0388\n",
            "Epoch 63/70\n",
            "3875/3875 [==============================] - 2s 430us/sample - loss: 0.0445 - mean_squared_error: 0.0056 - mean_absolute_error: 0.0429 - val_loss: 0.0409 - val_mean_squared_error: 0.0048 - val_mean_absolute_error: 0.0392\n",
            "Epoch 64/70\n",
            "3875/3875 [==============================] - 2s 436us/sample - loss: 0.0445 - mean_squared_error: 0.0055 - mean_absolute_error: 0.0429 - val_loss: 0.0392 - val_mean_squared_error: 0.0046 - val_mean_absolute_error: 0.0376\n",
            "Epoch 65/70\n",
            "3875/3875 [==============================] - 2s 440us/sample - loss: 0.0439 - mean_squared_error: 0.0056 - mean_absolute_error: 0.0423 - val_loss: 0.0400 - val_mean_squared_error: 0.0045 - val_mean_absolute_error: 0.0384\n",
            "Epoch 66/70\n",
            "3875/3875 [==============================] - 2s 433us/sample - loss: 0.0445 - mean_squared_error: 0.0056 - mean_absolute_error: 0.0428 - val_loss: 0.0393 - val_mean_squared_error: 0.0044 - val_mean_absolute_error: 0.0376\n",
            "Epoch 67/70\n",
            "3875/3875 [==============================] - 2s 470us/sample - loss: 0.0443 - mean_squared_error: 0.0056 - mean_absolute_error: 0.0426 - val_loss: 0.0418 - val_mean_squared_error: 0.0053 - val_mean_absolute_error: 0.0402\n",
            "Epoch 68/70\n",
            "3875/3875 [==============================] - 2s 507us/sample - loss: 0.0452 - mean_squared_error: 0.0059 - mean_absolute_error: 0.0435 - val_loss: 0.0399 - val_mean_squared_error: 0.0045 - val_mean_absolute_error: 0.0383\n",
            "Epoch 69/70\n",
            "3875/3875 [==============================] - 2s 506us/sample - loss: 0.0443 - mean_squared_error: 0.0056 - mean_absolute_error: 0.0427 - val_loss: 0.0390 - val_mean_squared_error: 0.0042 - val_mean_absolute_error: 0.0374\n",
            "Epoch 70/70\n",
            "3875/3875 [==============================] - 2s 507us/sample - loss: 0.0439 - mean_squared_error: 0.0056 - mean_absolute_error: 0.0423 - val_loss: 0.0423 - val_mean_squared_error: 0.0045 - val_mean_absolute_error: 0.0406\n",
            "time:  119.0888819694519 seconds\n"
          ],
          "name": "stdout"
        }
      ]
    },
    {
      "cell_type": "code",
      "metadata": {
        "id": "3bbu4m1Gli7C",
        "colab_type": "code",
        "outputId": "57ea3383-7143-4700-8004-95a450a2a3d3",
        "colab": {
          "base_uri": "https://localhost:8080/",
          "height": 52
        }
      },
      "source": [
        "results = model.evaluate(x_test_CtoC, y_test_CtoC, batch_size = 7)\n",
        "results"
      ],
      "execution_count": 0,
      "outputs": [
        {
          "output_type": "stream",
          "text": [
            "1212/1212 [==============================] - 0s 198us/sample - loss: 0.0405 - mean_squared_error: 0.0041 - mean_absolute_error: 0.0389\n"
          ],
          "name": "stdout"
        },
        {
          "output_type": "execute_result",
          "data": {
            "text/plain": [
              "[0.040466434521317825, 0.0041446676, 0.038856965]"
            ]
          },
          "metadata": {
            "tags": []
          },
          "execution_count": 89
        }
      ]
    },
    {
      "cell_type": "code",
      "metadata": {
        "id": "til9f8trlRxh",
        "colab_type": "code",
        "colab": {}
      },
      "source": [
        "CtoC_predictions = model.predict(x_test_CtoC).flatten()"
      ],
      "execution_count": 0,
      "outputs": []
    },
    {
      "cell_type": "code",
      "metadata": {
        "id": "hg-VnBjelqnJ",
        "colab_type": "code",
        "colab": {}
      },
      "source": [
        "inverse_CtoC_predictions = maxabs_scaler_y.inverse_transform(CtoC_predictions.reshape(-1,1)) \n",
        "inverse_y_test_CtoC = maxabs_scaler_y.inverse_transform(y_test_CtoC)"
      ],
      "execution_count": 0,
      "outputs": []
    },
    {
      "cell_type": "code",
      "metadata": {
        "id": "px_dH_s9Sjwk",
        "colab_type": "code",
        "outputId": "581af56a-7e21-466b-e0de-6aff9f2f423f",
        "colab": {
          "base_uri": "https://localhost:8080/",
          "height": 52
        }
      },
      "source": [
        "CtoC_mse = mean_squared_error(inverse_y_test_CtoC, inverse_CtoC_predictions)\n",
        "CtoC_r2 = r2_score(inverse_y_test_CtoC, inverse_CtoC_predictions)\n",
        "\n",
        "print('CtoC_mse: ',CtoC_mse)\n",
        "print('CtoC_r2: ',CtoC_r2)"
      ],
      "execution_count": 0,
      "outputs": [
        {
          "output_type": "stream",
          "text": [
            "CtoC_mse:  700.1212958903016\n",
            "CtoC_r2:  0.4639587803394507\n"
          ],
          "name": "stdout"
        }
      ]
    },
    {
      "cell_type": "code",
      "metadata": {
        "id": "QujdivzfcT09",
        "colab_type": "code",
        "outputId": "a2bc25d4-ac29-4a9e-be57-f7f3951ba50b",
        "colab": {
          "base_uri": "https://localhost:8080/",
          "height": 263
        }
      },
      "source": [
        "print(inverse_y_test_CtoC)\n",
        "print(inverse_CtoC_predictions)"
      ],
      "execution_count": 0,
      "outputs": [
        {
          "output_type": "stream",
          "text": [
            "[[ 11.]\n",
            " [111.]\n",
            " [  5.]\n",
            " ...\n",
            " [  2.]\n",
            " [ 22.]\n",
            " [ 14.]]\n",
            "[[14.4985075]\n",
            " [64.67787  ]\n",
            " [ 4.3001275]\n",
            " ...\n",
            " [ 0.6374742]\n",
            " [36.649612 ]\n",
            " [23.520506 ]]\n"
          ],
          "name": "stdout"
        }
      ]
    },
    {
      "cell_type": "code",
      "metadata": {
        "id": "Xi18xW3pmBPq",
        "colab_type": "code",
        "outputId": "e7914df5-5a86-4ddc-f352-01ff8075d43d",
        "colab": {
          "base_uri": "https://localhost:8080/",
          "height": 1000
        }
      },
      "source": [
        "start = time.time()\n",
        "history = model.fit(x_train_CtoP, y_train_CtoP, epochs = 70, batch_size= 7,  verbose=1,validation_split=0.2)\n",
        "print(\"time: \", time.time() - start ,\"seconds\")"
      ],
      "execution_count": 0,
      "outputs": [
        {
          "output_type": "stream",
          "text": [
            "Train on 3875 samples, validate on 969 samples\n",
            "Epoch 1/70\n",
            "3875/3875 [==============================] - 2s 484us/sample - loss: 0.0437 - mean_squared_error: 0.0056 - mean_absolute_error: 0.0421 - val_loss: 0.0441 - val_mean_squared_error: 0.0045 - val_mean_absolute_error: 0.0425\n",
            "Epoch 2/70\n",
            "3875/3875 [==============================] - 2s 502us/sample - loss: 0.0444 - mean_squared_error: 0.0055 - mean_absolute_error: 0.0427 - val_loss: 0.0393 - val_mean_squared_error: 0.0047 - val_mean_absolute_error: 0.0377\n",
            "Epoch 3/70\n",
            "3875/3875 [==============================] - 2s 472us/sample - loss: 0.0443 - mean_squared_error: 0.0055 - mean_absolute_error: 0.0427 - val_loss: 0.0404 - val_mean_squared_error: 0.0045 - val_mean_absolute_error: 0.0388\n",
            "Epoch 4/70\n",
            "3875/3875 [==============================] - 2s 444us/sample - loss: 0.0440 - mean_squared_error: 0.0056 - mean_absolute_error: 0.0425 - val_loss: 0.0460 - val_mean_squared_error: 0.0053 - val_mean_absolute_error: 0.0444\n",
            "Epoch 5/70\n",
            "3875/3875 [==============================] - 2s 443us/sample - loss: 0.0450 - mean_squared_error: 0.0057 - mean_absolute_error: 0.0435 - val_loss: 0.0419 - val_mean_squared_error: 0.0053 - val_mean_absolute_error: 0.0403\n",
            "Epoch 6/70\n",
            "3875/3875 [==============================] - 2s 433us/sample - loss: 0.0440 - mean_squared_error: 0.0056 - mean_absolute_error: 0.0424 - val_loss: 0.0384 - val_mean_squared_error: 0.0041 - val_mean_absolute_error: 0.0369\n",
            "Epoch 7/70\n",
            "3875/3875 [==============================] - 2s 448us/sample - loss: 0.0439 - mean_squared_error: 0.0056 - mean_absolute_error: 0.0423 - val_loss: 0.0383 - val_mean_squared_error: 0.0041 - val_mean_absolute_error: 0.0368\n",
            "Epoch 8/70\n",
            "3875/3875 [==============================] - 2s 431us/sample - loss: 0.0444 - mean_squared_error: 0.0057 - mean_absolute_error: 0.0428 - val_loss: 0.0464 - val_mean_squared_error: 0.0058 - val_mean_absolute_error: 0.0448\n",
            "Epoch 9/70\n",
            "3875/3875 [==============================] - 2s 432us/sample - loss: 0.0442 - mean_squared_error: 0.0057 - mean_absolute_error: 0.0426 - val_loss: 0.0465 - val_mean_squared_error: 0.0051 - val_mean_absolute_error: 0.0449\n",
            "Epoch 10/70\n",
            "3875/3875 [==============================] - 2s 432us/sample - loss: 0.0443 - mean_squared_error: 0.0055 - mean_absolute_error: 0.0428 - val_loss: 0.0401 - val_mean_squared_error: 0.0046 - val_mean_absolute_error: 0.0385\n",
            "Epoch 11/70\n",
            "3875/3875 [==============================] - 2s 436us/sample - loss: 0.0444 - mean_squared_error: 0.0059 - mean_absolute_error: 0.0428 - val_loss: 0.0406 - val_mean_squared_error: 0.0044 - val_mean_absolute_error: 0.0390\n",
            "Epoch 12/70\n",
            "3875/3875 [==============================] - 2s 438us/sample - loss: 0.0444 - mean_squared_error: 0.0056 - mean_absolute_error: 0.0429 - val_loss: 0.0441 - val_mean_squared_error: 0.0047 - val_mean_absolute_error: 0.0425\n",
            "Epoch 13/70\n",
            "3875/3875 [==============================] - 2s 435us/sample - loss: 0.0443 - mean_squared_error: 0.0056 - mean_absolute_error: 0.0428 - val_loss: 0.0665 - val_mean_squared_error: 0.0071 - val_mean_absolute_error: 0.0649\n",
            "Epoch 14/70\n",
            "3875/3875 [==============================] - 2s 439us/sample - loss: 0.0442 - mean_squared_error: 0.0057 - mean_absolute_error: 0.0427 - val_loss: 0.0406 - val_mean_squared_error: 0.0046 - val_mean_absolute_error: 0.0390\n",
            "Epoch 15/70\n",
            "3875/3875 [==============================] - 2s 431us/sample - loss: 0.0447 - mean_squared_error: 0.0057 - mean_absolute_error: 0.0432 - val_loss: 0.0418 - val_mean_squared_error: 0.0045 - val_mean_absolute_error: 0.0403\n",
            "Epoch 16/70\n",
            "3875/3875 [==============================] - 2s 431us/sample - loss: 0.0435 - mean_squared_error: 0.0056 - mean_absolute_error: 0.0420 - val_loss: 0.0387 - val_mean_squared_error: 0.0043 - val_mean_absolute_error: 0.0372\n",
            "Epoch 17/70\n",
            "3875/3875 [==============================] - 2s 431us/sample - loss: 0.0445 - mean_squared_error: 0.0057 - mean_absolute_error: 0.0430 - val_loss: 0.0388 - val_mean_squared_error: 0.0043 - val_mean_absolute_error: 0.0373\n",
            "Epoch 18/70\n",
            "3875/3875 [==============================] - 2s 432us/sample - loss: 0.0447 - mean_squared_error: 0.0057 - mean_absolute_error: 0.0431 - val_loss: 0.0409 - val_mean_squared_error: 0.0051 - val_mean_absolute_error: 0.0394\n",
            "Epoch 19/70\n",
            "3875/3875 [==============================] - 2s 438us/sample - loss: 0.0441 - mean_squared_error: 0.0056 - mean_absolute_error: 0.0426 - val_loss: 0.0398 - val_mean_squared_error: 0.0041 - val_mean_absolute_error: 0.0383\n",
            "Epoch 20/70\n",
            "3875/3875 [==============================] - 2s 431us/sample - loss: 0.0447 - mean_squared_error: 0.0058 - mean_absolute_error: 0.0431 - val_loss: 0.0393 - val_mean_squared_error: 0.0042 - val_mean_absolute_error: 0.0378\n",
            "Epoch 21/70\n",
            "3875/3875 [==============================] - 2s 427us/sample - loss: 0.0444 - mean_squared_error: 0.0057 - mean_absolute_error: 0.0429 - val_loss: 0.0386 - val_mean_squared_error: 0.0041 - val_mean_absolute_error: 0.0371\n",
            "Epoch 22/70\n",
            "3875/3875 [==============================] - 2s 429us/sample - loss: 0.0442 - mean_squared_error: 0.0057 - mean_absolute_error: 0.0427 - val_loss: 0.0394 - val_mean_squared_error: 0.0044 - val_mean_absolute_error: 0.0379\n",
            "Epoch 23/70\n",
            "3875/3875 [==============================] - 2s 442us/sample - loss: 0.0438 - mean_squared_error: 0.0056 - mean_absolute_error: 0.0423 - val_loss: 0.0409 - val_mean_squared_error: 0.0044 - val_mean_absolute_error: 0.0395\n",
            "Epoch 24/70\n",
            "3875/3875 [==============================] - 2s 442us/sample - loss: 0.0443 - mean_squared_error: 0.0058 - mean_absolute_error: 0.0428 - val_loss: 0.0379 - val_mean_squared_error: 0.0042 - val_mean_absolute_error: 0.0365\n",
            "Epoch 25/70\n",
            "3875/3875 [==============================] - 2s 438us/sample - loss: 0.0442 - mean_squared_error: 0.0056 - mean_absolute_error: 0.0427 - val_loss: 0.0379 - val_mean_squared_error: 0.0042 - val_mean_absolute_error: 0.0364\n",
            "Epoch 26/70\n",
            "3875/3875 [==============================] - 2s 429us/sample - loss: 0.0441 - mean_squared_error: 0.0056 - mean_absolute_error: 0.0426 - val_loss: 0.0411 - val_mean_squared_error: 0.0044 - val_mean_absolute_error: 0.0396\n",
            "Epoch 27/70\n",
            "3875/3875 [==============================] - 2s 427us/sample - loss: 0.0444 - mean_squared_error: 0.0057 - mean_absolute_error: 0.0430 - val_loss: 0.0420 - val_mean_squared_error: 0.0045 - val_mean_absolute_error: 0.0405\n",
            "Epoch 28/70\n",
            "3875/3875 [==============================] - 2s 433us/sample - loss: 0.0441 - mean_squared_error: 0.0056 - mean_absolute_error: 0.0426 - val_loss: 0.0416 - val_mean_squared_error: 0.0046 - val_mean_absolute_error: 0.0401\n",
            "Epoch 29/70\n",
            "3875/3875 [==============================] - 2s 436us/sample - loss: 0.0447 - mean_squared_error: 0.0057 - mean_absolute_error: 0.0432 - val_loss: 0.0390 - val_mean_squared_error: 0.0047 - val_mean_absolute_error: 0.0376\n",
            "Epoch 30/70\n",
            "3875/3875 [==============================] - 2s 450us/sample - loss: 0.0442 - mean_squared_error: 0.0057 - mean_absolute_error: 0.0427 - val_loss: 0.0418 - val_mean_squared_error: 0.0054 - val_mean_absolute_error: 0.0403\n",
            "Epoch 31/70\n",
            "3875/3875 [==============================] - 2s 439us/sample - loss: 0.0445 - mean_squared_error: 0.0057 - mean_absolute_error: 0.0430 - val_loss: 0.0392 - val_mean_squared_error: 0.0046 - val_mean_absolute_error: 0.0377\n",
            "Epoch 32/70\n",
            "3875/3875 [==============================] - 2s 442us/sample - loss: 0.0447 - mean_squared_error: 0.0058 - mean_absolute_error: 0.0433 - val_loss: 0.0408 - val_mean_squared_error: 0.0050 - val_mean_absolute_error: 0.0393\n",
            "Epoch 33/70\n",
            "3875/3875 [==============================] - 2s 426us/sample - loss: 0.0446 - mean_squared_error: 0.0058 - mean_absolute_error: 0.0432 - val_loss: 0.0410 - val_mean_squared_error: 0.0045 - val_mean_absolute_error: 0.0395\n",
            "Epoch 34/70\n",
            "3875/3875 [==============================] - 2s 437us/sample - loss: 0.0441 - mean_squared_error: 0.0056 - mean_absolute_error: 0.0427 - val_loss: 0.0391 - val_mean_squared_error: 0.0045 - val_mean_absolute_error: 0.0377\n",
            "Epoch 35/70\n",
            "3875/3875 [==============================] - 2s 442us/sample - loss: 0.0441 - mean_squared_error: 0.0056 - mean_absolute_error: 0.0426 - val_loss: 0.0387 - val_mean_squared_error: 0.0042 - val_mean_absolute_error: 0.0373\n",
            "Epoch 36/70\n",
            "3875/3875 [==============================] - 2s 440us/sample - loss: 0.0437 - mean_squared_error: 0.0055 - mean_absolute_error: 0.0422 - val_loss: 0.0384 - val_mean_squared_error: 0.0045 - val_mean_absolute_error: 0.0370\n",
            "Epoch 37/70\n",
            "3875/3875 [==============================] - 2s 438us/sample - loss: 0.0442 - mean_squared_error: 0.0057 - mean_absolute_error: 0.0428 - val_loss: 0.0396 - val_mean_squared_error: 0.0047 - val_mean_absolute_error: 0.0382\n",
            "Epoch 38/70\n",
            "3875/3875 [==============================] - 2s 436us/sample - loss: 0.0441 - mean_squared_error: 0.0056 - mean_absolute_error: 0.0427 - val_loss: 0.0428 - val_mean_squared_error: 0.0046 - val_mean_absolute_error: 0.0414\n",
            "Epoch 39/70\n",
            "3875/3875 [==============================] - 2s 439us/sample - loss: 0.0446 - mean_squared_error: 0.0058 - mean_absolute_error: 0.0432 - val_loss: 0.0390 - val_mean_squared_error: 0.0047 - val_mean_absolute_error: 0.0376\n",
            "Epoch 40/70\n",
            "3875/3875 [==============================] - 2s 431us/sample - loss: 0.0443 - mean_squared_error: 0.0056 - mean_absolute_error: 0.0429 - val_loss: 0.0434 - val_mean_squared_error: 0.0046 - val_mean_absolute_error: 0.0419\n",
            "Epoch 41/70\n",
            "3875/3875 [==============================] - 2s 438us/sample - loss: 0.0439 - mean_squared_error: 0.0056 - mean_absolute_error: 0.0425 - val_loss: 0.0530 - val_mean_squared_error: 0.0057 - val_mean_absolute_error: 0.0515\n",
            "Epoch 42/70\n",
            "3875/3875 [==============================] - 2s 444us/sample - loss: 0.0445 - mean_squared_error: 0.0058 - mean_absolute_error: 0.0431 - val_loss: 0.0402 - val_mean_squared_error: 0.0050 - val_mean_absolute_error: 0.0388\n",
            "Epoch 43/70\n",
            "3875/3875 [==============================] - 2s 449us/sample - loss: 0.0446 - mean_squared_error: 0.0058 - mean_absolute_error: 0.0432 - val_loss: 0.0455 - val_mean_squared_error: 0.0062 - val_mean_absolute_error: 0.0441\n",
            "Epoch 44/70\n",
            "3875/3875 [==============================] - 2s 442us/sample - loss: 0.0440 - mean_squared_error: 0.0057 - mean_absolute_error: 0.0426 - val_loss: 0.0399 - val_mean_squared_error: 0.0050 - val_mean_absolute_error: 0.0385\n",
            "Epoch 45/70\n",
            "3875/3875 [==============================] - 2s 436us/sample - loss: 0.0447 - mean_squared_error: 0.0058 - mean_absolute_error: 0.0434 - val_loss: 0.0381 - val_mean_squared_error: 0.0040 - val_mean_absolute_error: 0.0368\n",
            "Epoch 46/70\n",
            "3875/3875 [==============================] - 2s 441us/sample - loss: 0.0439 - mean_squared_error: 0.0055 - mean_absolute_error: 0.0425 - val_loss: 0.0387 - val_mean_squared_error: 0.0046 - val_mean_absolute_error: 0.0374\n",
            "Epoch 47/70\n",
            "3875/3875 [==============================] - 2s 432us/sample - loss: 0.0442 - mean_squared_error: 0.0057 - mean_absolute_error: 0.0428 - val_loss: 0.0447 - val_mean_squared_error: 0.0060 - val_mean_absolute_error: 0.0434\n",
            "Epoch 48/70\n",
            "3875/3875 [==============================] - 2s 456us/sample - loss: 0.0434 - mean_squared_error: 0.0057 - mean_absolute_error: 0.0421 - val_loss: 0.0421 - val_mean_squared_error: 0.0048 - val_mean_absolute_error: 0.0408\n",
            "Epoch 49/70\n",
            "3875/3875 [==============================] - 2s 449us/sample - loss: 0.0437 - mean_squared_error: 0.0057 - mean_absolute_error: 0.0424 - val_loss: 0.0411 - val_mean_squared_error: 0.0048 - val_mean_absolute_error: 0.0398\n",
            "Epoch 50/70\n",
            "3875/3875 [==============================] - 2s 447us/sample - loss: 0.0432 - mean_squared_error: 0.0054 - mean_absolute_error: 0.0419 - val_loss: 0.0386 - val_mean_squared_error: 0.0045 - val_mean_absolute_error: 0.0373\n",
            "Epoch 51/70\n",
            "3875/3875 [==============================] - 2s 437us/sample - loss: 0.0443 - mean_squared_error: 0.0057 - mean_absolute_error: 0.0429 - val_loss: 0.0390 - val_mean_squared_error: 0.0047 - val_mean_absolute_error: 0.0376\n",
            "Epoch 52/70\n",
            "3875/3875 [==============================] - 2s 439us/sample - loss: 0.0440 - mean_squared_error: 0.0056 - mean_absolute_error: 0.0426 - val_loss: 0.0390 - val_mean_squared_error: 0.0044 - val_mean_absolute_error: 0.0376\n",
            "Epoch 53/70\n",
            "3875/3875 [==============================] - 2s 447us/sample - loss: 0.0445 - mean_squared_error: 0.0058 - mean_absolute_error: 0.0431 - val_loss: 0.0380 - val_mean_squared_error: 0.0044 - val_mean_absolute_error: 0.0367\n",
            "Epoch 54/70\n",
            "3875/3875 [==============================] - 2s 448us/sample - loss: 0.0441 - mean_squared_error: 0.0056 - mean_absolute_error: 0.0428 - val_loss: 0.0485 - val_mean_squared_error: 0.0051 - val_mean_absolute_error: 0.0471\n",
            "Epoch 55/70\n",
            "3875/3875 [==============================] - 2s 451us/sample - loss: 0.0440 - mean_squared_error: 0.0057 - mean_absolute_error: 0.0426 - val_loss: 0.0423 - val_mean_squared_error: 0.0046 - val_mean_absolute_error: 0.0410\n",
            "Epoch 56/70\n",
            "3875/3875 [==============================] - 2s 440us/sample - loss: 0.0439 - mean_squared_error: 0.0056 - mean_absolute_error: 0.0425 - val_loss: 0.0384 - val_mean_squared_error: 0.0045 - val_mean_absolute_error: 0.0371\n",
            "Epoch 57/70\n",
            "3875/3875 [==============================] - 2s 438us/sample - loss: 0.0441 - mean_squared_error: 0.0057 - mean_absolute_error: 0.0428 - val_loss: 0.0396 - val_mean_squared_error: 0.0046 - val_mean_absolute_error: 0.0382\n",
            "Epoch 58/70\n",
            "3875/3875 [==============================] - 2s 440us/sample - loss: 0.0438 - mean_squared_error: 0.0057 - mean_absolute_error: 0.0425 - val_loss: 0.0405 - val_mean_squared_error: 0.0049 - val_mean_absolute_error: 0.0391\n",
            "Epoch 59/70\n",
            "3875/3875 [==============================] - 2s 440us/sample - loss: 0.0442 - mean_squared_error: 0.0056 - mean_absolute_error: 0.0429 - val_loss: 0.0386 - val_mean_squared_error: 0.0042 - val_mean_absolute_error: 0.0372\n",
            "Epoch 60/70\n",
            "3875/3875 [==============================] - 2s 455us/sample - loss: 0.0436 - mean_squared_error: 0.0055 - mean_absolute_error: 0.0423 - val_loss: 0.0394 - val_mean_squared_error: 0.0042 - val_mean_absolute_error: 0.0380\n",
            "Epoch 61/70\n",
            "3875/3875 [==============================] - 2s 446us/sample - loss: 0.0442 - mean_squared_error: 0.0056 - mean_absolute_error: 0.0428 - val_loss: 0.0391 - val_mean_squared_error: 0.0043 - val_mean_absolute_error: 0.0378\n",
            "Epoch 62/70\n",
            "3875/3875 [==============================] - 2s 438us/sample - loss: 0.0438 - mean_squared_error: 0.0056 - mean_absolute_error: 0.0425 - val_loss: 0.0401 - val_mean_squared_error: 0.0042 - val_mean_absolute_error: 0.0388\n",
            "Epoch 63/70\n",
            "3875/3875 [==============================] - 2s 441us/sample - loss: 0.0442 - mean_squared_error: 0.0056 - mean_absolute_error: 0.0429 - val_loss: 0.0412 - val_mean_squared_error: 0.0051 - val_mean_absolute_error: 0.0399\n",
            "Epoch 64/70\n",
            "3875/3875 [==============================] - 2s 443us/sample - loss: 0.0441 - mean_squared_error: 0.0058 - mean_absolute_error: 0.0428 - val_loss: 0.0405 - val_mean_squared_error: 0.0047 - val_mean_absolute_error: 0.0392\n",
            "Epoch 65/70\n",
            "3875/3875 [==============================] - 2s 444us/sample - loss: 0.0442 - mean_squared_error: 0.0058 - mean_absolute_error: 0.0429 - val_loss: 0.0381 - val_mean_squared_error: 0.0043 - val_mean_absolute_error: 0.0369\n",
            "Epoch 66/70\n",
            "3875/3875 [==============================] - 2s 450us/sample - loss: 0.0439 - mean_squared_error: 0.0056 - mean_absolute_error: 0.0426 - val_loss: 0.0443 - val_mean_squared_error: 0.0053 - val_mean_absolute_error: 0.0430\n",
            "Epoch 67/70\n",
            "3875/3875 [==============================] - 2s 463us/sample - loss: 0.0445 - mean_squared_error: 0.0056 - mean_absolute_error: 0.0432 - val_loss: 0.0388 - val_mean_squared_error: 0.0045 - val_mean_absolute_error: 0.0375\n",
            "Epoch 68/70\n",
            "3875/3875 [==============================] - 2s 440us/sample - loss: 0.0447 - mean_squared_error: 0.0058 - mean_absolute_error: 0.0434 - val_loss: 0.0392 - val_mean_squared_error: 0.0043 - val_mean_absolute_error: 0.0380\n",
            "Epoch 69/70\n",
            "3875/3875 [==============================] - 2s 444us/sample - loss: 0.0438 - mean_squared_error: 0.0056 - mean_absolute_error: 0.0425 - val_loss: 0.0399 - val_mean_squared_error: 0.0044 - val_mean_absolute_error: 0.0387\n",
            "Epoch 70/70\n",
            "3875/3875 [==============================] - 2s 433us/sample - loss: 0.0440 - mean_squared_error: 0.0057 - mean_absolute_error: 0.0427 - val_loss: 0.0386 - val_mean_squared_error: 0.0045 - val_mean_absolute_error: 0.0373\n",
            "time:  120.16767907142639 seconds\n"
          ],
          "name": "stdout"
        }
      ]
    },
    {
      "cell_type": "code",
      "metadata": {
        "id": "ICT-Q5xmmNzm",
        "colab_type": "code",
        "outputId": "2cd0884d-864e-4ff5-abac-101173f0b37e",
        "colab": {
          "base_uri": "https://localhost:8080/",
          "height": 52
        }
      },
      "source": [
        "results = model.evaluate(x_test_CtoP, y_test_CtoP, batch_size = 7)\n",
        "results"
      ],
      "execution_count": 0,
      "outputs": [
        {
          "output_type": "stream",
          "text": [
            "1212/1212 [==============================] - 0s 187us/sample - loss: 0.0376 - mean_squared_error: 0.0041 - mean_absolute_error: 0.0363\n"
          ],
          "name": "stdout"
        },
        {
          "output_type": "execute_result",
          "data": {
            "text/plain": [
              "[0.037600612809586494, 0.004114875, 0.036313053]"
            ]
          },
          "metadata": {
            "tags": []
          },
          "execution_count": 95
        }
      ]
    },
    {
      "cell_type": "code",
      "metadata": {
        "id": "rCx1TZ-GmSsT",
        "colab_type": "code",
        "colab": {}
      },
      "source": [
        "CtoP_predictions = model.predict(x_test_CtoP).flatten()"
      ],
      "execution_count": 0,
      "outputs": []
    },
    {
      "cell_type": "code",
      "metadata": {
        "id": "K42XDWgZmXQ8",
        "colab_type": "code",
        "colab": {}
      },
      "source": [
        "inverse_CtoP_predictions = maxabs_scaler_y.inverse_transform(CtoP_predictions.reshape(-1,1)) \n",
        "inverse_y_test_CtoP = maxabs_scaler_y.inverse_transform(y_test_CtoP)"
      ],
      "execution_count": 0,
      "outputs": []
    },
    {
      "cell_type": "code",
      "metadata": {
        "id": "7mFpFcGSSieG",
        "colab_type": "code",
        "outputId": "92838700-9f22-4236-cc59-6d7616b669a3",
        "colab": {
          "base_uri": "https://localhost:8080/",
          "height": 52
        }
      },
      "source": [
        "CtoP_mse = mean_squared_error(inverse_y_test_CtoP, inverse_CtoP_predictions)\n",
        "CtoP_r2 = r2_score(inverse_y_test_CtoP, inverse_CtoP_predictions)\n",
        "\n",
        "print('CtoP_mse: ',CtoP_mse)\n",
        "print('CtoP_r2: ',CtoP_r2)"
      ],
      "execution_count": 0,
      "outputs": [
        {
          "output_type": "stream",
          "text": [
            "CtoP_mse:  695.0887909979517\n",
            "CtoP_r2:  0.4678118699058986\n"
          ],
          "name": "stdout"
        }
      ]
    },
    {
      "cell_type": "code",
      "metadata": {
        "id": "bdMo5Xhlmd9I",
        "colab_type": "code",
        "colab": {}
      },
      "source": [
        "combined_result = inverse_CtoC_predictions + inverse_CtoP_predictions"
      ],
      "execution_count": 0,
      "outputs": []
    },
    {
      "cell_type": "code",
      "metadata": {
        "id": "HmGtVeG9ptaW",
        "colab_type": "code",
        "outputId": "f52df6e6-bd1e-44ab-ad59-7b27b86276f2",
        "colab": {
          "base_uri": "https://localhost:8080/",
          "height": 492
        }
      },
      "source": [
        "print(inverse_y_test[:10])\n",
        "print(combined_result[:10])\n",
        "print(inverse_total_predictions)"
      ],
      "execution_count": 0,
      "outputs": [
        {
          "output_type": "stream",
          "text": [
            "[[ 15.02580645]\n",
            " [109.6       ]\n",
            " [ 10.60645161]\n",
            " [ 13.25806452]\n",
            " [  7.07096774]\n",
            " [  6.18709677]\n",
            " [ 57.4516129 ]\n",
            " [  4.41935484]\n",
            " [ 28.28387097]\n",
            " [ 59.21935484]]\n",
            "[[ 28.712341 ]\n",
            " [125.75873  ]\n",
            " [  9.434879 ]\n",
            " [ 64.028786 ]\n",
            " [  2.2031467]\n",
            " [  4.211134 ]\n",
            " [ 92.34096  ]\n",
            " [  1.3691658]\n",
            " [ 48.860313 ]\n",
            " [ 83.55728  ]]\n",
            "[[30.608932]\n",
            " [93.615776]\n",
            " [23.624834]\n",
            " ...\n",
            " [15.938986]\n",
            " [43.018642]\n",
            " [36.671486]]\n"
          ],
          "name": "stdout"
        }
      ]
    },
    {
      "cell_type": "code",
      "metadata": {
        "id": "UFODI6WNbrIC",
        "colab_type": "code",
        "outputId": "504390ac-4a6b-4dd2-8ae0-355f36278f74",
        "colab": {
          "base_uri": "https://localhost:8080/",
          "height": 239
        }
      },
      "source": [
        "mse_lst = []\n",
        "r2_lst = []\n",
        "\n",
        "mse_lst.append(mse)\n",
        "r2_lst.append(r2)\n",
        "\n",
        "combined_mse = mean_squared_error(inverse_y_test, combined_result)\n",
        "combined_r2 = r2_score(inverse_y_test, combined_result)\n",
        "\n",
        "combined_mse_lst = []\n",
        "combined_r2_lst = []\n",
        "\n",
        "combined_mse_lst.append(combined_mse)\n",
        "combined_r2_lst.append(combined_r2)\n",
        "\n",
        "print('total Mean squared error: ', mse)\n",
        "print('total R2 score: ', r2)\n",
        "\n",
        "print('Combined Mean squared error: ', combined_mse)\n",
        "print('Combined R2 score: ', combined_r2)"
      ],
      "execution_count": 0,
      "outputs": [
        {
          "output_type": "error",
          "ename": "NameError",
          "evalue": "ignored",
          "traceback": [
            "\u001b[0;31m---------------------------------------------------------------------------\u001b[0m",
            "\u001b[0;31mNameError\u001b[0m                                 Traceback (most recent call last)",
            "\u001b[0;32m<ipython-input-101-9fa855831806>\u001b[0m in \u001b[0;36m<module>\u001b[0;34m()\u001b[0m\n\u001b[1;32m      2\u001b[0m \u001b[0mr2_lst\u001b[0m \u001b[0;34m=\u001b[0m \u001b[0;34m[\u001b[0m\u001b[0;34m]\u001b[0m\u001b[0;34m\u001b[0m\u001b[0;34m\u001b[0m\u001b[0m\n\u001b[1;32m      3\u001b[0m \u001b[0;34m\u001b[0m\u001b[0m\n\u001b[0;32m----> 4\u001b[0;31m \u001b[0mmse_lst\u001b[0m\u001b[0;34m.\u001b[0m\u001b[0mappend\u001b[0m\u001b[0;34m(\u001b[0m\u001b[0mmse\u001b[0m\u001b[0;34m)\u001b[0m\u001b[0;34m\u001b[0m\u001b[0;34m\u001b[0m\u001b[0m\n\u001b[0m\u001b[1;32m      5\u001b[0m \u001b[0mr2_lst\u001b[0m\u001b[0;34m.\u001b[0m\u001b[0mappend\u001b[0m\u001b[0;34m(\u001b[0m\u001b[0mr2\u001b[0m\u001b[0;34m)\u001b[0m\u001b[0;34m\u001b[0m\u001b[0;34m\u001b[0m\u001b[0m\n\u001b[1;32m      6\u001b[0m \u001b[0;34m\u001b[0m\u001b[0m\n",
            "\u001b[0;31mNameError\u001b[0m: name 'mse' is not defined"
          ]
        }
      ]
    },
    {
      "cell_type": "code",
      "metadata": {
        "id": "Hv107U3JbJob",
        "colab_type": "code",
        "colab": {}
      },
      "source": [
        "# if  \"Radius\" in raw_x:\n",
        "#     case1 = mse\n",
        "#     case2 = combined_mse\n",
        "#     case3 = 0\n",
        "#     case4 = 0\n",
        "# else:    \n",
        "#     case3 = mse\n",
        "#     case4 = combined_mse"
      ],
      "execution_count": 0,
      "outputs": []
    },
    {
      "cell_type": "code",
      "metadata": {
        "id": "VegNGy5ibjD4",
        "colab_type": "code",
        "colab": {}
      },
      "source": [
        "# x = ['case1', 'case2', 'case3', 'case4']\n",
        "\n",
        "# y = [case1, case2, case3, case4]\n",
        "\n",
        "# plt.xlabel('keras')\n",
        "# plt.ylabel('mse')\n",
        "# plt.bar(x,y,width = 0.7, color = 'green')"
      ],
      "execution_count": 0,
      "outputs": []
    },
    {
      "cell_type": "code",
      "metadata": {
        "id": "YcxI_HQafPfI",
        "colab_type": "code",
        "colab": {}
      },
      "source": [
        "# for cases in y:\n",
        "#     print(cases)"
      ],
      "execution_count": 0,
      "outputs": []
    },
    {
      "cell_type": "code",
      "metadata": {
        "id": "dzfJYIGe44PJ",
        "colab_type": "code",
        "colab": {}
      },
      "source": [
        "# import matplotlib.pyplot as plt\n",
        "\n",
        "# x = ['case1', 'case2', 'case3', 'case4']\n",
        "\n",
        "# y = [716.3639496173882, 809.4214031384474, 557.026564792903, 1146.63635762345]\n",
        "\n",
        "# plt.xlabel('keras')\n",
        "# plt.ylabel('mse')\n",
        "# plt.ylim(500,1200)\n",
        "# plt.bar(x,y,width = 0.7, color = 'green')"
      ],
      "execution_count": 0,
      "outputs": []
    }
  ]
}