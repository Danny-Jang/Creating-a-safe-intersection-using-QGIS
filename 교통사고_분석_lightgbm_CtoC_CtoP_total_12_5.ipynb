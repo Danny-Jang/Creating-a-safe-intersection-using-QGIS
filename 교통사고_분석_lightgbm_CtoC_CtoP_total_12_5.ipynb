{
  "nbformat": 4,
  "nbformat_minor": 0,
  "metadata": {
    "colab": {
      "name": "교통사고 분석_lightgbm_CtoC_CtoP_total_12/5",
      "provenance": [],
      "collapsed_sections": []
    },
    "kernelspec": {
      "name": "python3",
      "display_name": "Python 3"
    }
  },
  "cells": [
    {
      "cell_type": "code",
      "metadata": {
        "id": "z85b0G9oZJaW",
        "colab_type": "code",
        "colab": {}
      },
      "source": [
        "import pandas as pd\n",
        "import numpy as np\n",
        "import seaborn as sns\n",
        "import matplotlib.pyplot as plt\n",
        "import lightgbm as lgb\n",
        "from lightgbm import LGBMRegressor as lgbr\n",
        "import time\n",
        "\n",
        "from sklearn.linear_model import LinearRegression\n",
        "from sklearn.model_selection import train_test_split\n",
        "from sklearn.preprocessing import OneHotEncoder\n",
        "from sklearn.metrics import mean_squared_error, r2_score"
      ],
      "execution_count": 0,
      "outputs": []
    },
    {
      "cell_type": "code",
      "metadata": {
        "id": "tLbmYERihyc8",
        "colab_type": "code",
        "outputId": "adf8bc0c-5224-4fb7-c81f-4aa6e3abaf2f",
        "colab": {
          "base_uri": "https://localhost:8080/",
          "height": 125
        }
      },
      "source": [
        "from google.colab import drive\n",
        "drive.mount('/content/drive')"
      ],
      "execution_count": 0,
      "outputs": [
        {
          "output_type": "stream",
          "text": [
            "Go to this URL in a browser: https://accounts.google.com/o/oauth2/auth?client_id=947318989803-6bn6qk8qdgf4n4g3pfee6491hc0brc4i.apps.googleusercontent.com&redirect_uri=urn%3aietf%3awg%3aoauth%3a2.0%3aoob&response_type=code&scope=email%20https%3a%2f%2fwww.googleapis.com%2fauth%2fdocs.test%20https%3a%2f%2fwww.googleapis.com%2fauth%2fdrive%20https%3a%2f%2fwww.googleapis.com%2fauth%2fdrive.photos.readonly%20https%3a%2f%2fwww.googleapis.com%2fauth%2fpeopleapi.readonly\n",
            "\n",
            "Enter your authorization code:\n",
            "··········\n",
            "Mounted at /content/drive\n"
          ],
          "name": "stdout"
        }
      ]
    },
    {
      "cell_type": "code",
      "metadata": {
        "id": "hI01EooYZxGe",
        "colab_type": "code",
        "colab": {}
      },
      "source": [
        "data = pd.read_csv('/content/drive/My Drive/team_project/Dataset3.csv', sep=',' , encoding='CP949')"
      ],
      "execution_count": 0,
      "outputs": []
    },
    {
      "cell_type": "code",
      "metadata": {
        "id": "KP_R60q-k4vF",
        "colab_type": "code",
        "outputId": "25746dbb-5cb2-4b71-c803-6e170688af4b",
        "colab": {
          "base_uri": "https://localhost:8080/",
          "height": 438
        }
      },
      "source": [
        "data"
      ],
      "execution_count": 0,
      "outputs": [
        {
          "output_type": "execute_result",
          "data": {
            "text/html": [
              "<div>\n",
              "<style scoped>\n",
              "    .dataframe tbody tr th:only-of-type {\n",
              "        vertical-align: middle;\n",
              "    }\n",
              "\n",
              "    .dataframe tbody tr th {\n",
              "        vertical-align: top;\n",
              "    }\n",
              "\n",
              "    .dataframe thead th {\n",
              "        text-align: right;\n",
              "    }\n",
              "</style>\n",
              "<table border=\"1\" class=\"dataframe\">\n",
              "  <thead>\n",
              "    <tr style=\"text-align: right;\">\n",
              "      <th></th>\n",
              "      <th>NODE_ID</th>\n",
              "      <th>NODE_NAME</th>\n",
              "      <th>SI_CODE</th>\n",
              "      <th>GU_CODE</th>\n",
              "      <th>X</th>\n",
              "      <th>Y</th>\n",
              "      <th>Longitude</th>\n",
              "      <th>Latitude</th>\n",
              "      <th>Radius</th>\n",
              "      <th>trafficlight_num</th>\n",
              "      <th>crosswalk_num</th>\n",
              "      <th>station_num</th>\n",
              "      <th>school_num</th>\n",
              "      <th>land_price</th>\n",
              "      <th>house_1</th>\n",
              "      <th>house_2</th>\n",
              "      <th>house_3</th>\n",
              "      <th>house_4</th>\n",
              "      <th>commerce_1</th>\n",
              "      <th>commerce_2</th>\n",
              "      <th>commerce_3</th>\n",
              "      <th>commerce_4</th>\n",
              "      <th>green_1</th>\n",
              "      <th>green_2</th>\n",
              "      <th>green_3</th>\n",
              "      <th>industry_1</th>\n",
              "      <th>industry_2</th>\n",
              "      <th>industry_3</th>\n",
              "      <th>limit_num</th>\n",
              "      <th>mediansep_</th>\n",
              "      <th>island_num</th>\n",
              "      <th>mean_lanes</th>\n",
              "      <th>mean_speed</th>\n",
              "      <th>mean_wth</th>\n",
              "      <th>mean_loadlen</th>\n",
              "      <th>busstop_num</th>\n",
              "      <th>police_num</th>\n",
              "      <th>CtoC_num</th>\n",
              "      <th>CtoP_num</th>\n",
              "      <th>total_acc</th>\n",
              "    </tr>\n",
              "  </thead>\n",
              "  <tbody>\n",
              "    <tr>\n",
              "      <th>0</th>\n",
              "      <td>1150016800</td>\n",
              "      <td>현대맨션</td>\n",
              "      <td>A</td>\n",
              "      <td>DD</td>\n",
              "      <td>9.419266e+05</td>\n",
              "      <td>1950157.631</td>\n",
              "      <td>126.842562</td>\n",
              "      <td>37.548928</td>\n",
              "      <td>37</td>\n",
              "      <td>0</td>\n",
              "      <td>1</td>\n",
              "      <td>0</td>\n",
              "      <td>0</td>\n",
              "      <td>5.102635e+07</td>\n",
              "      <td>0.996526</td>\n",
              "      <td>0.003474</td>\n",
              "      <td>0.000000</td>\n",
              "      <td>0.000000</td>\n",
              "      <td>0.0</td>\n",
              "      <td>0.0</td>\n",
              "      <td>0.0</td>\n",
              "      <td>0.0</td>\n",
              "      <td>0.000000</td>\n",
              "      <td>0.0</td>\n",
              "      <td>0.0</td>\n",
              "      <td>0.0</td>\n",
              "      <td>0.0</td>\n",
              "      <td>0.0</td>\n",
              "      <td>0.000000</td>\n",
              "      <td>0</td>\n",
              "      <td>0</td>\n",
              "      <td>1.00</td>\n",
              "      <td>30.0</td>\n",
              "      <td>4.500000</td>\n",
              "      <td>281.000000</td>\n",
              "      <td>0</td>\n",
              "      <td>0</td>\n",
              "      <td>1</td>\n",
              "      <td>0</td>\n",
              "      <td>1</td>\n",
              "    </tr>\n",
              "    <tr>\n",
              "      <th>1</th>\n",
              "      <td>1160006100</td>\n",
              "      <td>신흥빌라</td>\n",
              "      <td>A</td>\n",
              "      <td>GG</td>\n",
              "      <td>9.425428e+05</td>\n",
              "      <td>1942717.922</td>\n",
              "      <td>126.850119</td>\n",
              "      <td>37.481912</td>\n",
              "      <td>37</td>\n",
              "      <td>0</td>\n",
              "      <td>1</td>\n",
              "      <td>0</td>\n",
              "      <td>1</td>\n",
              "      <td>2.834985e+07</td>\n",
              "      <td>0.000000</td>\n",
              "      <td>1.000000</td>\n",
              "      <td>0.000000</td>\n",
              "      <td>0.000000</td>\n",
              "      <td>0.0</td>\n",
              "      <td>0.0</td>\n",
              "      <td>0.0</td>\n",
              "      <td>0.0</td>\n",
              "      <td>0.000000</td>\n",
              "      <td>0.0</td>\n",
              "      <td>0.0</td>\n",
              "      <td>0.0</td>\n",
              "      <td>0.0</td>\n",
              "      <td>0.0</td>\n",
              "      <td>0.000000</td>\n",
              "      <td>0</td>\n",
              "      <td>1</td>\n",
              "      <td>1.00</td>\n",
              "      <td>60.0</td>\n",
              "      <td>4.000000</td>\n",
              "      <td>645.500000</td>\n",
              "      <td>1</td>\n",
              "      <td>0</td>\n",
              "      <td>3</td>\n",
              "      <td>2</td>\n",
              "      <td>5</td>\n",
              "    </tr>\n",
              "    <tr>\n",
              "      <th>2</th>\n",
              "      <td>1160035000</td>\n",
              "      <td>연흥학원</td>\n",
              "      <td>A</td>\n",
              "      <td>GG</td>\n",
              "      <td>9.457569e+05</td>\n",
              "      <td>1944979.108</td>\n",
              "      <td>126.886304</td>\n",
              "      <td>37.502487</td>\n",
              "      <td>37</td>\n",
              "      <td>0</td>\n",
              "      <td>1</td>\n",
              "      <td>0</td>\n",
              "      <td>0</td>\n",
              "      <td>8.244801e+07</td>\n",
              "      <td>0.000000</td>\n",
              "      <td>1.000000</td>\n",
              "      <td>0.000000</td>\n",
              "      <td>0.000000</td>\n",
              "      <td>0.0</td>\n",
              "      <td>0.0</td>\n",
              "      <td>0.0</td>\n",
              "      <td>0.0</td>\n",
              "      <td>0.000000</td>\n",
              "      <td>0.0</td>\n",
              "      <td>0.0</td>\n",
              "      <td>0.0</td>\n",
              "      <td>0.0</td>\n",
              "      <td>0.0</td>\n",
              "      <td>0.000000</td>\n",
              "      <td>0</td>\n",
              "      <td>0</td>\n",
              "      <td>1.00</td>\n",
              "      <td>30.0</td>\n",
              "      <td>4.666667</td>\n",
              "      <td>130.333333</td>\n",
              "      <td>0</td>\n",
              "      <td>1</td>\n",
              "      <td>2</td>\n",
              "      <td>3</td>\n",
              "      <td>5</td>\n",
              "    </tr>\n",
              "    <tr>\n",
              "      <th>3</th>\n",
              "      <td>1160044000</td>\n",
              "      <td>한일유앤아이아파트</td>\n",
              "      <td>A</td>\n",
              "      <td>GG</td>\n",
              "      <td>9.425526e+05</td>\n",
              "      <td>1945551.749</td>\n",
              "      <td>126.850009</td>\n",
              "      <td>37.507454</td>\n",
              "      <td>37</td>\n",
              "      <td>0</td>\n",
              "      <td>0</td>\n",
              "      <td>0</td>\n",
              "      <td>2</td>\n",
              "      <td>1.929201e+07</td>\n",
              "      <td>1.000000</td>\n",
              "      <td>0.000000</td>\n",
              "      <td>0.000000</td>\n",
              "      <td>0.000000</td>\n",
              "      <td>0.0</td>\n",
              "      <td>0.0</td>\n",
              "      <td>0.0</td>\n",
              "      <td>0.0</td>\n",
              "      <td>0.000000</td>\n",
              "      <td>0.0</td>\n",
              "      <td>0.0</td>\n",
              "      <td>0.0</td>\n",
              "      <td>0.0</td>\n",
              "      <td>0.0</td>\n",
              "      <td>0.000000</td>\n",
              "      <td>0</td>\n",
              "      <td>0</td>\n",
              "      <td>1.00</td>\n",
              "      <td>60.0</td>\n",
              "      <td>3.000000</td>\n",
              "      <td>433.000000</td>\n",
              "      <td>2</td>\n",
              "      <td>0</td>\n",
              "      <td>0</td>\n",
              "      <td>4</td>\n",
              "      <td>4</td>\n",
              "    </tr>\n",
              "    <tr>\n",
              "      <th>4</th>\n",
              "      <td>1100025000</td>\n",
              "      <td>연지초교</td>\n",
              "      <td>A</td>\n",
              "      <td>II</td>\n",
              "      <td>9.610632e+05</td>\n",
              "      <td>1959527.770</td>\n",
              "      <td>127.058698</td>\n",
              "      <td>37.634391</td>\n",
              "      <td>37</td>\n",
              "      <td>0</td>\n",
              "      <td>1</td>\n",
              "      <td>1</td>\n",
              "      <td>1</td>\n",
              "      <td>2.064954e+07</td>\n",
              "      <td>0.986185</td>\n",
              "      <td>0.013815</td>\n",
              "      <td>0.000000</td>\n",
              "      <td>0.000000</td>\n",
              "      <td>0.0</td>\n",
              "      <td>0.0</td>\n",
              "      <td>0.0</td>\n",
              "      <td>0.0</td>\n",
              "      <td>0.000000</td>\n",
              "      <td>0.0</td>\n",
              "      <td>0.0</td>\n",
              "      <td>0.0</td>\n",
              "      <td>0.0</td>\n",
              "      <td>0.0</td>\n",
              "      <td>0.000000</td>\n",
              "      <td>0</td>\n",
              "      <td>2</td>\n",
              "      <td>1.00</td>\n",
              "      <td>30.0</td>\n",
              "      <td>4.500000</td>\n",
              "      <td>616.000000</td>\n",
              "      <td>0</td>\n",
              "      <td>1</td>\n",
              "      <td>7</td>\n",
              "      <td>1</td>\n",
              "      <td>8</td>\n",
              "    </tr>\n",
              "    <tr>\n",
              "      <th>...</th>\n",
              "      <td>...</td>\n",
              "      <td>...</td>\n",
              "      <td>...</td>\n",
              "      <td>...</td>\n",
              "      <td>...</td>\n",
              "      <td>...</td>\n",
              "      <td>...</td>\n",
              "      <td>...</td>\n",
              "      <td>...</td>\n",
              "      <td>...</td>\n",
              "      <td>...</td>\n",
              "      <td>...</td>\n",
              "      <td>...</td>\n",
              "      <td>...</td>\n",
              "      <td>...</td>\n",
              "      <td>...</td>\n",
              "      <td>...</td>\n",
              "      <td>...</td>\n",
              "      <td>...</td>\n",
              "      <td>...</td>\n",
              "      <td>...</td>\n",
              "      <td>...</td>\n",
              "      <td>...</td>\n",
              "      <td>...</td>\n",
              "      <td>...</td>\n",
              "      <td>...</td>\n",
              "      <td>...</td>\n",
              "      <td>...</td>\n",
              "      <td>...</td>\n",
              "      <td>...</td>\n",
              "      <td>...</td>\n",
              "      <td>...</td>\n",
              "      <td>...</td>\n",
              "      <td>...</td>\n",
              "      <td>...</td>\n",
              "      <td>...</td>\n",
              "      <td>...</td>\n",
              "      <td>...</td>\n",
              "      <td>...</td>\n",
              "      <td>...</td>\n",
              "    </tr>\n",
              "    <tr>\n",
              "      <th>6051</th>\n",
              "      <td>1380028700</td>\n",
              "      <td>-</td>\n",
              "      <td>B</td>\n",
              "      <td>PP</td>\n",
              "      <td>1.147437e+06</td>\n",
              "      <td>1691149.431</td>\n",
              "      <td>129.119698</td>\n",
              "      <td>35.204871</td>\n",
              "      <td>54</td>\n",
              "      <td>9</td>\n",
              "      <td>0</td>\n",
              "      <td>0</td>\n",
              "      <td>0</td>\n",
              "      <td>9.516307e+05</td>\n",
              "      <td>0.000000</td>\n",
              "      <td>0.000000</td>\n",
              "      <td>0.326679</td>\n",
              "      <td>0.000000</td>\n",
              "      <td>0.0</td>\n",
              "      <td>0.0</td>\n",
              "      <td>0.0</td>\n",
              "      <td>0.0</td>\n",
              "      <td>0.673321</td>\n",
              "      <td>0.0</td>\n",
              "      <td>0.0</td>\n",
              "      <td>0.0</td>\n",
              "      <td>0.0</td>\n",
              "      <td>0.0</td>\n",
              "      <td>0.000000</td>\n",
              "      <td>1</td>\n",
              "      <td>0</td>\n",
              "      <td>3.40</td>\n",
              "      <td>56.0</td>\n",
              "      <td>42.225000</td>\n",
              "      <td>7500.000000</td>\n",
              "      <td>0</td>\n",
              "      <td>0</td>\n",
              "      <td>34</td>\n",
              "      <td>3</td>\n",
              "      <td>37</td>\n",
              "    </tr>\n",
              "    <tr>\n",
              "      <th>6052</th>\n",
              "      <td>1380029400</td>\n",
              "      <td>-</td>\n",
              "      <td>B</td>\n",
              "      <td>PP</td>\n",
              "      <td>1.147537e+06</td>\n",
              "      <td>1692084.379</td>\n",
              "      <td>129.120957</td>\n",
              "      <td>35.213283</td>\n",
              "      <td>55</td>\n",
              "      <td>12</td>\n",
              "      <td>2</td>\n",
              "      <td>0</td>\n",
              "      <td>0</td>\n",
              "      <td>3.826632e+06</td>\n",
              "      <td>0.000000</td>\n",
              "      <td>0.048482</td>\n",
              "      <td>0.000000</td>\n",
              "      <td>0.000000</td>\n",
              "      <td>0.0</td>\n",
              "      <td>0.0</td>\n",
              "      <td>0.0</td>\n",
              "      <td>0.0</td>\n",
              "      <td>0.064315</td>\n",
              "      <td>0.0</td>\n",
              "      <td>0.0</td>\n",
              "      <td>0.0</td>\n",
              "      <td>0.0</td>\n",
              "      <td>0.0</td>\n",
              "      <td>0.887203</td>\n",
              "      <td>1</td>\n",
              "      <td>2</td>\n",
              "      <td>4.00</td>\n",
              "      <td>52.5</td>\n",
              "      <td>42.225000</td>\n",
              "      <td>7500.000000</td>\n",
              "      <td>0</td>\n",
              "      <td>0</td>\n",
              "      <td>62</td>\n",
              "      <td>4</td>\n",
              "      <td>66</td>\n",
              "    </tr>\n",
              "    <tr>\n",
              "      <th>6053</th>\n",
              "      <td>1320005200</td>\n",
              "      <td>-</td>\n",
              "      <td>B</td>\n",
              "      <td>EE</td>\n",
              "      <td>1.142002e+06</td>\n",
              "      <td>1682717.438</td>\n",
              "      <td>129.058556</td>\n",
              "      <td>35.129650</td>\n",
              "      <td>56</td>\n",
              "      <td>0</td>\n",
              "      <td>0</td>\n",
              "      <td>0</td>\n",
              "      <td>0</td>\n",
              "      <td>3.825333e+05</td>\n",
              "      <td>0.000000</td>\n",
              "      <td>0.000000</td>\n",
              "      <td>0.000000</td>\n",
              "      <td>0.000000</td>\n",
              "      <td>0.0</td>\n",
              "      <td>0.0</td>\n",
              "      <td>0.0</td>\n",
              "      <td>0.0</td>\n",
              "      <td>0.000000</td>\n",
              "      <td>0.0</td>\n",
              "      <td>0.0</td>\n",
              "      <td>0.0</td>\n",
              "      <td>0.0</td>\n",
              "      <td>1.0</td>\n",
              "      <td>0.000000</td>\n",
              "      <td>1</td>\n",
              "      <td>1</td>\n",
              "      <td>3.75</td>\n",
              "      <td>57.5</td>\n",
              "      <td>50.000000</td>\n",
              "      <td>3400.000000</td>\n",
              "      <td>0</td>\n",
              "      <td>0</td>\n",
              "      <td>30</td>\n",
              "      <td>10</td>\n",
              "      <td>40</td>\n",
              "    </tr>\n",
              "    <tr>\n",
              "      <th>6054</th>\n",
              "      <td>1320004900</td>\n",
              "      <td>-</td>\n",
              "      <td>B</td>\n",
              "      <td>EE</td>\n",
              "      <td>1.141862e+06</td>\n",
              "      <td>1682590.225</td>\n",
              "      <td>129.056998</td>\n",
              "      <td>35.128523</td>\n",
              "      <td>56</td>\n",
              "      <td>0</td>\n",
              "      <td>0</td>\n",
              "      <td>0</td>\n",
              "      <td>0</td>\n",
              "      <td>1.623048e+05</td>\n",
              "      <td>0.000000</td>\n",
              "      <td>0.000000</td>\n",
              "      <td>0.000000</td>\n",
              "      <td>0.000000</td>\n",
              "      <td>0.0</td>\n",
              "      <td>0.0</td>\n",
              "      <td>0.0</td>\n",
              "      <td>0.0</td>\n",
              "      <td>0.000000</td>\n",
              "      <td>0.0</td>\n",
              "      <td>0.0</td>\n",
              "      <td>0.0</td>\n",
              "      <td>0.0</td>\n",
              "      <td>1.0</td>\n",
              "      <td>0.000000</td>\n",
              "      <td>1</td>\n",
              "      <td>0</td>\n",
              "      <td>3.40</td>\n",
              "      <td>52.0</td>\n",
              "      <td>50.000000</td>\n",
              "      <td>3400.000000</td>\n",
              "      <td>0</td>\n",
              "      <td>0</td>\n",
              "      <td>4</td>\n",
              "      <td>1</td>\n",
              "      <td>5</td>\n",
              "    </tr>\n",
              "    <tr>\n",
              "      <th>6055</th>\n",
              "      <td>1420000800</td>\n",
              "      <td>-</td>\n",
              "      <td>B</td>\n",
              "      <td>MM</td>\n",
              "      <td>1.143814e+06</td>\n",
              "      <td>1689835.344</td>\n",
              "      <td>129.079673</td>\n",
              "      <td>35.193552</td>\n",
              "      <td>57</td>\n",
              "      <td>12</td>\n",
              "      <td>0</td>\n",
              "      <td>1</td>\n",
              "      <td>3</td>\n",
              "      <td>1.082780e+07</td>\n",
              "      <td>0.000000</td>\n",
              "      <td>0.004721</td>\n",
              "      <td>0.481943</td>\n",
              "      <td>0.513335</td>\n",
              "      <td>0.0</td>\n",
              "      <td>0.0</td>\n",
              "      <td>0.0</td>\n",
              "      <td>0.0</td>\n",
              "      <td>0.000000</td>\n",
              "      <td>0.0</td>\n",
              "      <td>0.0</td>\n",
              "      <td>0.0</td>\n",
              "      <td>0.0</td>\n",
              "      <td>0.0</td>\n",
              "      <td>0.000000</td>\n",
              "      <td>0</td>\n",
              "      <td>2</td>\n",
              "      <td>4.25</td>\n",
              "      <td>60.0</td>\n",
              "      <td>45.000000</td>\n",
              "      <td>14485.000000</td>\n",
              "      <td>0</td>\n",
              "      <td>0</td>\n",
              "      <td>47</td>\n",
              "      <td>2</td>\n",
              "      <td>49</td>\n",
              "    </tr>\n",
              "  </tbody>\n",
              "</table>\n",
              "<p>6056 rows × 40 columns</p>\n",
              "</div>"
            ],
            "text/plain": [
              "         NODE_ID  NODE_NAME SI_CODE  ... CtoC_num  CtoP_num  total_acc\n",
              "0     1150016800       현대맨션       A  ...        1         0          1\n",
              "1     1160006100       신흥빌라       A  ...        3         2          5\n",
              "2     1160035000       연흥학원       A  ...        2         3          5\n",
              "3     1160044000  한일유앤아이아파트       A  ...        0         4          4\n",
              "4     1100025000       연지초교       A  ...        7         1          8\n",
              "...          ...        ...     ...  ...      ...       ...        ...\n",
              "6051  1380028700          -       B  ...       34         3         37\n",
              "6052  1380029400          -       B  ...       62         4         66\n",
              "6053  1320005200          -       B  ...       30        10         40\n",
              "6054  1320004900          -       B  ...        4         1          5\n",
              "6055  1420000800          -       B  ...       47         2         49\n",
              "\n",
              "[6056 rows x 40 columns]"
            ]
          },
          "metadata": {
            "tags": []
          },
          "execution_count": 4
        }
      ]
    },
    {
      "cell_type": "code",
      "metadata": {
        "id": "nwxbDD7bi1PC",
        "colab_type": "code",
        "colab": {}
      },
      "source": [
        "raw_x = data[['trafficlight_num','crosswalk_num','station_num','school_num','land_price','house_1','house_2','house_3','house_4','commerce_1','commerce_2','commerce_3','commerce_4','green_1','green_2','green_3','industry_1','industry_2','industry_3','limit_num','mediansep_','island_num','mean_lanes','mean_speed','mean_wth','mean_loadlen','busstop_num','police_num']]\n",
        "raw_y = data[['total_acc']]\n",
        "raw_y_CtoC = data[['CtoC_num']]\n",
        "raw_y_CtoP = data[['CtoP_num']]"
      ],
      "execution_count": 0,
      "outputs": []
    },
    {
      "cell_type": "code",
      "metadata": {
        "id": "X5wyG74mi9gl",
        "colab_type": "code",
        "colab": {}
      },
      "source": [
        "x, test_x , y, test_y = train_test_split(raw_x, raw_y, test_size = 0.2, random_state = 42)\n",
        "train_x, valid_x , train_y, valid_y = train_test_split(x, y, test_size = 0.375, random_state = 42)\n",
        "\n",
        "x, test_x , y_CtoC, test_y_CtoC = train_test_split(raw_x, raw_y_CtoC, test_size = 0.2, random_state = 42)\n",
        "train_x, valid_x , train_y_CtoC, valid_y_CtoC = train_test_split(x, y_CtoC, test_size = 0.375, random_state = 42)\n",
        "\n",
        "x, test_x , y_CtoP, test_y_CtoP = train_test_split(raw_x, raw_y_CtoP, test_size = 0.2, random_state = 42)\n",
        "train_x, valid_x , train_y_CtoP, valid_y_CtoP = train_test_split(x, y_CtoP, test_size = 0.375, random_state = 42)\n"
      ],
      "execution_count": 0,
      "outputs": []
    },
    {
      "cell_type": "code",
      "metadata": {
        "id": "KrC_Xf7hlLlw",
        "colab_type": "code",
        "colab": {}
      },
      "source": [
        "train_set = lgb.Dataset(train_x, train_y)\n",
        "valid_set = lgb.Dataset(valid_x, valid_y) \n",
        "test_set = lgb.Dataset(test_x, test_y)\n",
        "\n",
        "train_set_CtoC = lgb.Dataset(train_x, train_y_CtoC)\n",
        "valid_set_CtoC = lgb.Dataset(valid_x, valid_y_CtoC) \n",
        "test_set_CtoC = lgb.Dataset(test_x, test_y_CtoC)\n",
        "\n",
        "train_set_CtoP = lgb.Dataset(train_x, train_y_CtoP)\n",
        "valid_set_CtoP = lgb.Dataset(valid_x, valid_y_CtoP) \n",
        "test_set_CtoP = lgb.Dataset(test_x, test_y_CtoP)"
      ],
      "execution_count": 0,
      "outputs": []
    },
    {
      "cell_type": "code",
      "metadata": {
        "id": "DCU6xVeSlXTV",
        "colab_type": "code",
        "colab": {}
      },
      "source": [
        "params = {'learning_rate':0.01,\n",
        "          'max_depth':1000,\n",
        "          'boosting_type':'gbdt',\n",
        "          'objective':'regression',\n",
        "          'metrics':'mse',\n",
        "          'is_training_metric':True,\n",
        "          'num_leaves':1000,\n",
        "          'feature_fraction':0.7,\n",
        "          'bagging_fraction':0.7,\n",
        "          'bagging_freq':5,\n",
        "          'seed':2019}\n"
      ],
      "execution_count": 0,
      "outputs": []
    },
    {
      "cell_type": "markdown",
      "metadata": {
        "id": "Iyv-LFxe3vev",
        "colab_type": "text"
      },
      "source": [
        "------------------------------------------\n",
        "total\n"
      ]
    },
    {
      "cell_type": "code",
      "metadata": {
        "id": "aVBl9bHnmDS9",
        "colab_type": "code",
        "outputId": "7ec29230-3e45-4ec2-9668-c507220f47fa",
        "colab": {
          "base_uri": "https://localhost:8080/",
          "height": 615
        }
      },
      "source": [
        "start = time.time()\n",
        "model = lgb.train(params, train_set, 3000, valid_sets = valid_set ,verbose_eval = 100, early_stopping_rounds=3000)\n",
        "print(\"time: \", time.time() - start ,\"seconds\")"
      ],
      "execution_count": 0,
      "outputs": [
        {
          "output_type": "stream",
          "text": [
            "Training until validation scores don't improve for 3000 rounds.\n",
            "[100]\tvalid_0's l2: 847.42\n",
            "[200]\tvalid_0's l2: 671.951\n",
            "[300]\tvalid_0's l2: 632.798\n",
            "[400]\tvalid_0's l2: 624.679\n",
            "[500]\tvalid_0's l2: 622.174\n",
            "[600]\tvalid_0's l2: 624.957\n",
            "[700]\tvalid_0's l2: 624.61\n",
            "[800]\tvalid_0's l2: 626.612\n",
            "[900]\tvalid_0's l2: 628.271\n",
            "[1000]\tvalid_0's l2: 629.906\n",
            "[1100]\tvalid_0's l2: 632.037\n",
            "[1200]\tvalid_0's l2: 632.868\n",
            "[1300]\tvalid_0's l2: 634.286\n",
            "[1400]\tvalid_0's l2: 635.798\n",
            "[1500]\tvalid_0's l2: 636.791\n",
            "[1600]\tvalid_0's l2: 638.05\n",
            "[1700]\tvalid_0's l2: 639.778\n",
            "[1800]\tvalid_0's l2: 642.016\n",
            "[1900]\tvalid_0's l2: 643.56\n",
            "[2000]\tvalid_0's l2: 644.54\n",
            "[2100]\tvalid_0's l2: 645.672\n",
            "[2200]\tvalid_0's l2: 645.858\n",
            "[2300]\tvalid_0's l2: 647.517\n",
            "[2400]\tvalid_0's l2: 648.684\n",
            "[2500]\tvalid_0's l2: 649.361\n",
            "[2600]\tvalid_0's l2: 650.459\n",
            "[2700]\tvalid_0's l2: 650.886\n",
            "[2800]\tvalid_0's l2: 651.458\n",
            "[2900]\tvalid_0's l2: 652.048\n",
            "[3000]\tvalid_0's l2: 653.062\n",
            "Did not meet early stopping. Best iteration is:\n",
            "[506]\tvalid_0's l2: 622.097\n",
            "time:  13.046957015991211 seconds\n"
          ],
          "name": "stdout"
        }
      ]
    },
    {
      "cell_type": "code",
      "metadata": {
        "id": "AFwf-Us0mbzx",
        "colab_type": "code",
        "colab": {}
      },
      "source": [
        "predict_test = model.predict(test_x, num_iteration= model.best_iteration)"
      ],
      "execution_count": 0,
      "outputs": []
    },
    {
      "cell_type": "code",
      "metadata": {
        "id": "NN0TNoujmpHh",
        "colab_type": "code",
        "outputId": "62749cbe-1b97-4b4a-8c71-5ee10d12f957",
        "colab": {
          "base_uri": "https://localhost:8080/",
          "height": 122
        }
      },
      "source": [
        "mse = mean_squared_error(test_y, predict_test)\n",
        "r2 = r2_score(test_y, predict_test)\n",
        "\n",
        "mse_lst = []\n",
        "r2_lst = []\n",
        "\n",
        "mse_lst.append(mse)\n",
        "r2_lst.append(r2)\n",
        "\n",
        "print('Mean squared error: ', mse)\n",
        "print('R2 score: ', r2)\n",
        "\n",
        "print(len(mse_lst))\n",
        "print('mean of mse: ',np.mean(mse_lst))\n",
        "print('mean of r2: ',np.mean(r2_lst))\n",
        "\n",
        "''' 몇번을 해도 계속 같은 값이 나옴 '''"
      ],
      "execution_count": 0,
      "outputs": [
        {
          "output_type": "stream",
          "text": [
            "Mean squared error:  518.4295338699914\n",
            "R2 score:  0.7120551936620014\n",
            "1\n",
            "mean of mse:  518.4295338699914\n",
            "mean of r2:  0.7120551936620014\n"
          ],
          "name": "stdout"
        },
        {
          "output_type": "execute_result",
          "data": {
            "text/plain": [
              "' 몇번을 해도 계속 같은 값이 나옴 '"
            ]
          },
          "metadata": {
            "tags": []
          },
          "execution_count": 12
        }
      ]
    },
    {
      "cell_type": "code",
      "metadata": {
        "id": "KPchepM-no-X",
        "colab_type": "code",
        "outputId": "e5c0cf2f-4d6f-4245-8b5f-508ac0730d70",
        "colab": {
          "base_uri": "https://localhost:8080/",
          "height": 626
        }
      },
      "source": [
        "final_result = pd.concat([test_y.reset_index(drop = True), pd.DataFrame(predict_test)], axis = 1)\n",
        "final_result.columns = ['label','predict']\n",
        "fig, ax = plt.subplots()\n",
        "fig.set_size_inches(12,10)\n",
        "sns.regplot(x = 'label', y = 'predict', data = final_result, ax = ax)"
      ],
      "execution_count": 0,
      "outputs": [
        {
          "output_type": "execute_result",
          "data": {
            "text/plain": [
              "<matplotlib.axes._subplots.AxesSubplot at 0x7f1246c049e8>"
            ]
          },
          "metadata": {
            "tags": []
          },
          "execution_count": 13
        },
        {
          "output_type": "display_data",
          "data": {
            "image/png": "[encoded data removed]",
            "text/plain": [
              "<Figure size 864x720 with 1 Axes>"
            ]
          },
          "metadata": {
            "tags": []
          }
        }
      ]
    },
    {
      "cell_type": "markdown",
      "metadata": {
        "id": "GegN6z-a4OPk",
        "colab_type": "text"
      },
      "source": [
        "-------------------------------------------------------------------------------\n",
        "CtoC"
      ]
    },
    {
      "cell_type": "code",
      "metadata": {
        "id": "3NIHd1hCY91-",
        "colab_type": "code",
        "outputId": "02f78fbb-2f98-4327-898b-0f18407be251",
        "colab": {
          "base_uri": "https://localhost:8080/",
          "height": 615
        }
      },
      "source": [
        "start = time.time()\n",
        "model = lgb.train(params, train_set_CtoC, 3000, valid_sets = valid_set_CtoC ,verbose_eval = 100, early_stopping_rounds=3000)\n",
        "print(\"time: \", time.time() - start ,\"seconds\")"
      ],
      "execution_count": 0,
      "outputs": [
        {
          "output_type": "stream",
          "text": [
            "Training until validation scores don't improve for 3000 rounds.\n",
            "[100]\tvalid_0's l2: 619.814\n",
            "[200]\tvalid_0's l2: 493.343\n",
            "[300]\tvalid_0's l2: 464.856\n",
            "[400]\tvalid_0's l2: 458.618\n",
            "[500]\tvalid_0's l2: 456.47\n",
            "[600]\tvalid_0's l2: 458.732\n",
            "[700]\tvalid_0's l2: 458.289\n",
            "[800]\tvalid_0's l2: 459.244\n",
            "[900]\tvalid_0's l2: 460.268\n",
            "[1000]\tvalid_0's l2: 461.298\n",
            "[1100]\tvalid_0's l2: 463.366\n",
            "[1200]\tvalid_0's l2: 464.118\n",
            "[1300]\tvalid_0's l2: 464.47\n",
            "[1400]\tvalid_0's l2: 465.324\n",
            "[1500]\tvalid_0's l2: 465.963\n",
            "[1600]\tvalid_0's l2: 467.157\n",
            "[1700]\tvalid_0's l2: 467.763\n",
            "[1800]\tvalid_0's l2: 468.584\n",
            "[1900]\tvalid_0's l2: 469.614\n",
            "[2000]\tvalid_0's l2: 470.017\n",
            "[2100]\tvalid_0's l2: 470.894\n",
            "[2200]\tvalid_0's l2: 471.571\n",
            "[2300]\tvalid_0's l2: 472.698\n",
            "[2400]\tvalid_0's l2: 473.441\n",
            "[2500]\tvalid_0's l2: 473.409\n",
            "[2600]\tvalid_0's l2: 473.689\n",
            "[2700]\tvalid_0's l2: 474.488\n",
            "[2800]\tvalid_0's l2: 474.778\n",
            "[2900]\tvalid_0's l2: 474.574\n",
            "[3000]\tvalid_0's l2: 475.456\n",
            "Did not meet early stopping. Best iteration is:\n",
            "[508]\tvalid_0's l2: 456.195\n",
            "time:  12.663761854171753 seconds\n"
          ],
          "name": "stdout"
        }
      ]
    },
    {
      "cell_type": "code",
      "metadata": {
        "id": "0L3t2wUvd9jf",
        "colab_type": "code",
        "outputId": "70f00880-9f9c-41d9-9cf6-9a6865327655",
        "colab": {
          "base_uri": "https://localhost:8080/",
          "height": 105
        }
      },
      "source": [
        "predict_test_CtoC = model.predict(test_x, num_iteration= model.best_iteration)\n",
        "\n",
        "CtoC_mse = mean_squared_error(test_y_CtoC, predict_test_CtoC)\n",
        "CtoC_r2 = r2_score(test_y_CtoC, predict_test_CtoC)\n",
        "\n",
        "CtoC_mse_lst = []\n",
        "CtoC_r2_lst = []\n",
        "\n",
        "CtoC_mse_lst.append(CtoC_mse)\n",
        "CtoC_r2_lst.append(CtoC_r2)\n",
        "print('Mean squared error: ', CtoC_mse)\n",
        "print('R2 score: ', CtoC_r2)\n",
        "\n",
        "print(len(mse_lst))\n",
        "print('mean of mse: ',np.mean(CtoC_mse_lst))\n",
        "print('mean of r2: ',np.mean(CtoC_r2_lst))"
      ],
      "execution_count": 0,
      "outputs": [
        {
          "output_type": "stream",
          "text": [
            "Mean squared error:  373.50486817267256\n",
            "R2 score:  0.71402954565204\n",
            "1\n",
            "mean of mse:  373.50486817267256\n",
            "mean of r2:  0.71402954565204\n"
          ],
          "name": "stdout"
        }
      ]
    },
    {
      "cell_type": "markdown",
      "metadata": {
        "id": "ZBmqTnxM4c1w",
        "colab_type": "text"
      },
      "source": [
        "-------------------------------------------------------------------------------\n",
        "CtoP"
      ]
    },
    {
      "cell_type": "code",
      "metadata": {
        "id": "bBIrpr2ieDLn",
        "colab_type": "code",
        "outputId": "fea7e76a-2334-4874-d97b-1c031b90cf64",
        "colab": {
          "base_uri": "https://localhost:8080/",
          "height": 615
        }
      },
      "source": [
        "start = time.time()\n",
        "model = lgb.train(params, train_set_CtoP, 3000, valid_sets = valid_set_CtoP ,verbose_eval = 100, early_stopping_rounds=3000)\n",
        "print(\"time: \", time.time() - start ,\"seconds\")"
      ],
      "execution_count": 0,
      "outputs": [
        {
          "output_type": "stream",
          "text": [
            "Training until validation scores don't improve for 3000 rounds.\n",
            "[100]\tvalid_0's l2: 63.5336\n",
            "[200]\tvalid_0's l2: 57.0576\n",
            "[300]\tvalid_0's l2: 55.3558\n",
            "[400]\tvalid_0's l2: 54.9438\n",
            "[500]\tvalid_0's l2: 54.9218\n",
            "[600]\tvalid_0's l2: 55.0001\n",
            "[700]\tvalid_0's l2: 55.1598\n",
            "[800]\tvalid_0's l2: 55.3461\n",
            "[900]\tvalid_0's l2: 55.5872\n",
            "[1000]\tvalid_0's l2: 55.7801\n",
            "[1100]\tvalid_0's l2: 56.0531\n",
            "[1200]\tvalid_0's l2: 56.1272\n",
            "[1300]\tvalid_0's l2: 56.2441\n",
            "[1400]\tvalid_0's l2: 56.5486\n",
            "[1500]\tvalid_0's l2: 56.716\n",
            "[1600]\tvalid_0's l2: 56.9133\n",
            "[1700]\tvalid_0's l2: 57.0849\n",
            "[1800]\tvalid_0's l2: 57.2181\n",
            "[1900]\tvalid_0's l2: 57.3011\n",
            "[2000]\tvalid_0's l2: 57.3976\n",
            "[2100]\tvalid_0's l2: 57.4923\n",
            "[2200]\tvalid_0's l2: 57.6806\n",
            "[2300]\tvalid_0's l2: 57.8006\n",
            "[2400]\tvalid_0's l2: 57.9135\n",
            "[2500]\tvalid_0's l2: 57.9641\n",
            "[2600]\tvalid_0's l2: 58.0478\n",
            "[2700]\tvalid_0's l2: 58.1329\n",
            "[2800]\tvalid_0's l2: 58.2169\n",
            "[2900]\tvalid_0's l2: 58.2903\n",
            "[3000]\tvalid_0's l2: 58.3307\n",
            "Did not meet early stopping. Best iteration is:\n",
            "[535]\tvalid_0's l2: 54.8758\n",
            "time:  12.364897966384888 seconds\n"
          ],
          "name": "stdout"
        }
      ]
    },
    {
      "cell_type": "code",
      "metadata": {
        "id": "TaSf_kS9n2pq",
        "colab_type": "code",
        "outputId": "68882899-ec6d-45fc-e5f3-295ef5369009",
        "colab": {
          "base_uri": "https://localhost:8080/",
          "height": 34
        }
      },
      "source": [
        "model.best_iteration"
      ],
      "execution_count": 0,
      "outputs": [
        {
          "output_type": "execute_result",
          "data": {
            "text/plain": [
              "535"
            ]
          },
          "metadata": {
            "tags": []
          },
          "execution_count": 17
        }
      ]
    },
    {
      "cell_type": "code",
      "metadata": {
        "id": "nsHEwEDzeFQ8",
        "colab_type": "code",
        "outputId": "3e780687-baec-4450-c10c-f2743f3d3a38",
        "colab": {
          "base_uri": "https://localhost:8080/",
          "height": 105
        }
      },
      "source": [
        "predict_test_CtoP = model.predict(test_x, num_iteration= model.best_iteration)\n",
        "\n",
        "CtoP_mse = mean_squared_error(test_y_CtoP, predict_test_CtoP)\n",
        "CtoP_r2 = r2_score(test_y_CtoP, predict_test_CtoP)\n",
        "\n",
        "CtoP_mse_lst = []\n",
        "CtoP_r2_lst = []\n",
        "\n",
        "CtoP_mse_lst.append(CtoP_mse)\n",
        "CtoP_r2_lst.append(CtoP_r2)\n",
        "print('Mean squared error: ', CtoP_mse)\n",
        "print('R2 score: ', CtoP_r2)\n",
        "\n",
        "print(len(CtoP_mse_lst))\n",
        "print('mean of mse: ',np.mean(CtoP_mse_lst))\n",
        "print('mean of r2: ',np.mean(CtoP_r2_lst))"
      ],
      "execution_count": 0,
      "outputs": [
        {
          "output_type": "stream",
          "text": [
            "Mean squared error:  50.47906321420979\n",
            "R2 score:  0.44629379837208516\n",
            "1\n",
            "mean of mse:  50.47906321420979\n",
            "mean of r2:  0.44629379837208516\n"
          ],
          "name": "stdout"
        }
      ]
    },
    {
      "cell_type": "code",
      "metadata": {
        "id": "w_6c8G18yUKl",
        "colab_type": "code",
        "outputId": "f3f7296a-0028-4e82-d03e-9226d7c185ee",
        "colab": {
          "base_uri": "https://localhost:8080/",
          "height": 644
        }
      },
      "source": [
        "final_result = pd.concat([test_y.reset_index(drop = True), pd.DataFrame(predict_test_CtoP)], axis = 1)\n",
        "final_result.columns = ['label','predict']\n",
        "fig, ax = plt.subplots()\n",
        "fig.set_size_inches(12,10)\n",
        "sns.regplot(x = 'label', y = 'predict', data = final_result, ax = ax)"
      ],
      "execution_count": 0,
      "outputs": [
        {
          "output_type": "execute_result",
          "data": {
            "text/plain": [
              "<matplotlib.axes._subplots.AxesSubplot at 0x7f1b830ae2e8>"
            ]
          },
          "metadata": {
            "tags": []
          },
          "execution_count": 19
        },
        {
          "output_type": "display_data",
          "data": {
            "image/png": "[encoded data removed]",
            "text/plain": [
              "<Figure size 864x720 with 1 Axes>"
            ]
          },
          "metadata": {
            "tags": []
          }
        }
      ]
    },
    {
      "cell_type": "code",
      "metadata": {
        "id": "mReTvLdne6V_",
        "colab_type": "code",
        "colab": {}
      },
      "source": [
        "combined_result = predict_test_CtoC + predict_test_CtoP"
      ],
      "execution_count": 0,
      "outputs": []
    },
    {
      "cell_type": "code",
      "metadata": {
        "id": "n1xIFArETQgC",
        "colab_type": "code",
        "outputId": "fffc31da-a019-4661-bfb8-8c569c99160e",
        "colab": {
          "base_uri": "https://localhost:8080/",
          "height": 140
        }
      },
      "source": [
        "combined_mse = mean_squared_error(test_y, combined_result)\n",
        "combined_r2 = r2_score(test_y,combined_result)\n",
        "\n",
        "mse_lst = []\n",
        "r2_lst = []\n",
        "\n",
        "mse_lst.append(mse)\n",
        "r2_lst.append(r2)\n",
        "\n",
        "print('total Mean squared error: ', mse)\n",
        "print('total R2 score: ', r2)\n",
        "\n",
        "print('Combined Mean squared error: ', combined_mse)\n",
        "print('Combined R2 score: ', combined_r2)\n",
        "\n",
        "print(len(mse_lst))\n",
        "print('combined mean of mse: ',np.mean(mse_lst))\n",
        "print('combined mean of r2: ',np.mean(r2_lst))"
      ],
      "execution_count": 0,
      "outputs": [
        {
          "output_type": "stream",
          "text": [
            "total Mean squared error:  518.4295338699914\n",
            "total R2 score:  0.7120551936620014\n",
            "Combined Mean squared error:  523.557454957905\n",
            "Combined R2 score:  0.7092070568408726\n",
            "1\n",
            "combined mean of mse:  518.4295338699914\n",
            "combined mean of r2:  0.7120551936620014\n"
          ],
          "name": "stdout"
        }
      ]
    },
    {
      "cell_type": "code",
      "metadata": {
        "id": "6IXgIh5UVAQO",
        "colab_type": "code",
        "colab": {}
      },
      "source": [
        "# if  \"Radius\" in raw_x:\n",
        "#     case1 = mse\n",
        "#     case2 = combined_mse\n",
        "#     case3 = 0\n",
        "#     case4 = 0\n",
        "# else:    \n",
        "#     case3 = mse\n",
        "#     case4 = combined_mse"
      ],
      "execution_count": 0,
      "outputs": []
    },
    {
      "cell_type": "code",
      "metadata": {
        "id": "lXqsDx0ZfOqw",
        "colab_type": "code",
        "colab": {}
      },
      "source": [
        "# x = ['case1', 'case2', 'case3', 'case4']\n",
        "\n",
        "# y = [case1, case2, case3, case4]\n",
        "\n",
        "# plt.xlabel('catboost')\n",
        "# plt.ylabel('mse')\n",
        "# plt.bar(x,y,width = 0.7, color = 'green')"
      ],
      "execution_count": 0,
      "outputs": []
    },
    {
      "cell_type": "code",
      "metadata": {
        "id": "7LFIcGh2Vbso",
        "colab_type": "code",
        "colab": {}
      },
      "source": [
        "# for cases in y:\n",
        "#     print(cases)"
      ],
      "execution_count": 0,
      "outputs": []
    },
    {
      "cell_type": "code",
      "metadata": {
        "id": "aKifPTROWjMA",
        "colab_type": "code",
        "colab": {}
      },
      "source": [
        "# import matplotlib.pyplot as plt\n",
        "\n",
        "# x = ['case1', 'case2', 'case3', 'case4']\n",
        "# y = [530.6768861141264, 529.5343409397318, 518.4295338699914, 523.557454957905]\n",
        "\n",
        "# plt.xlabel('lightgbm')\n",
        "# plt.ylabel('mse')\n",
        "# plt.ylim(515,540)\n",
        "# plt.bar(x,y,width = 0.7, color = 'green')"
      ],
      "execution_count": 0,
      "outputs": []
    },
    {
      "cell_type": "code",
      "metadata": {
        "id": "TZ7R7OOK6ggU",
        "colab_type": "code",
        "colab": {}
      },
      "source": [
        ""
      ],
      "execution_count": 0,
      "outputs": []
    }
  ]
}